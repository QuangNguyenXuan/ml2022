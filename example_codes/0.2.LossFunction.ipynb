{
 "cells": [
  {
   "cell_type": "markdown",
   "id": "56adac3d-e5ac-4d31-b972-9e8b2d09b461",
   "metadata": {},
   "source": [
    "## Example 1"
   ]
  },
  {
   "cell_type": "code",
   "execution_count": 17,
   "id": "bd48c766-384a-4abe-b416-6bef11de2328",
   "metadata": {},
   "outputs": [
    {
     "name": "stdout",
     "output_type": "stream",
     "text": [
      "tensor([[ 1.2000,  3.6000,  0.1000, -2.5000]])\n",
      "tensor([3])\n"
     ]
    }
   ],
   "source": [
    "import torch\n",
    "import torch.nn as nn\n",
    "\n",
    "Z = torch.Tensor([[1.2, 3.6, 0.1, -2.5]])\n",
    "y = torch.Tensor([3]).long()\n",
    "print(Z)\n",
    "print(y)"
   ]
  },
  {
   "cell_type": "code",
   "execution_count": 18,
   "id": "addd936c-fda4-4008-84e0-e4599b5970f7",
   "metadata": {},
   "outputs": [
    {
     "name": "stdout",
     "output_type": "stream",
     "text": [
      "tensor(6.2161)\n"
     ]
    }
   ],
   "source": [
    "# Z: (N, C)\n",
    "# y: (N,)\n",
    "criterion = nn.CrossEntropyLoss()\n",
    "loss = criterion(Z, y)\n",
    "print(loss)"
   ]
  },
  {
   "cell_type": "code",
   "execution_count": null,
   "id": "ab0d0212-8312-4c01-a4d2-45fb141eefd9",
   "metadata": {},
   "outputs": [],
   "source": []
  },
  {
   "cell_type": "code",
   "execution_count": 19,
   "id": "e3877d55-c5da-45de-afa5-824776ed36f0",
   "metadata": {},
   "outputs": [
    {
     "name": "stdout",
     "output_type": "stream",
     "text": [
      "tensor([[0.0808, 0.8903, 0.0269, 0.0020]])\n"
     ]
    }
   ],
   "source": [
    "#=== verify \n",
    "softmax = nn.Softmax(dim=-1)\n",
    "output = softmax(Z)\n",
    "print(output)"
   ]
  },
  {
   "cell_type": "code",
   "execution_count": 20,
   "id": "66e7fdff-5d18-453c-964a-39211af47013",
   "metadata": {},
   "outputs": [
    {
     "name": "stdout",
     "output_type": "stream",
     "text": [
      "6.214608098422191\n"
     ]
    }
   ],
   "source": [
    "import numpy as np\n",
    "\n",
    "print(-np.log(0.0020))"
   ]
  },
  {
   "cell_type": "code",
   "execution_count": null,
   "id": "599232bf-5ec1-4708-b224-0fe73b9ece98",
   "metadata": {},
   "outputs": [],
   "source": []
  },
  {
   "cell_type": "code",
   "execution_count": null,
   "id": "44a67432-a5ed-461c-b1a4-bedbdebc9271",
   "metadata": {},
   "outputs": [],
   "source": []
  },
  {
   "cell_type": "markdown",
   "id": "d30d53a7-60ac-4389-8dcd-460db12a7e39",
   "metadata": {},
   "source": [
    "## Example 2"
   ]
  },
  {
   "cell_type": "code",
   "execution_count": 23,
   "id": "5779bd25-60e2-45c0-8b62-a103beb25a0c",
   "metadata": {},
   "outputs": [
    {
     "name": "stdout",
     "output_type": "stream",
     "text": [
      "tensor([1.2000, 0.1000, 0.1000])\n",
      "tensor([ 3.6000, -2.5000, -0.2000])\n",
      "tensor([[1, 0]])\n"
     ]
    }
   ],
   "source": [
    "import torch\n",
    "import torch.nn as nn\n",
    "\n",
    "N = 1\n",
    "C = 3\n",
    "d = 2\n",
    "\n",
    "Z = torch.Tensor([1.2, 3.6, 0.1, -2.5, 0.1, -0.2]).reshape(N, C, d)\n",
    "y = torch.Tensor([[1, 0]]).long()\n",
    "print(Z[0, :, 0])\n",
    "print(Z[0, :, 1])\n",
    "print(y)"
   ]
  },
  {
   "cell_type": "code",
   "execution_count": null,
   "id": "8e74bd9e-f01b-489d-9202-64b6e3b5ed1c",
   "metadata": {},
   "outputs": [],
   "source": []
  },
  {
   "cell_type": "code",
   "execution_count": 24,
   "id": "e620b3a6-fac5-49e5-84f1-054faec3b6cb",
   "metadata": {},
   "outputs": [
    {
     "name": "stdout",
     "output_type": "stream",
     "text": [
      "tensor(0.8173)\n"
     ]
    }
   ],
   "source": [
    "# Z: (N, C, d)\n",
    "# y: (N, d)\n",
    "criterion = nn.CrossEntropyLoss()\n",
    "loss = criterion(Z, y)\n",
    "print(loss)"
   ]
  },
  {
   "cell_type": "code",
   "execution_count": null,
   "id": "c4f49ebc-4e8c-435d-b766-c5545f37caad",
   "metadata": {},
   "outputs": [],
   "source": []
  },
  {
   "cell_type": "code",
   "execution_count": 25,
   "id": "7b7da792-ed33-4c5c-8ba6-d02737cf60c4",
   "metadata": {},
   "outputs": [
    {
     "name": "stdout",
     "output_type": "stream",
     "text": [
      "torch.Size([1, 2, 3])\n",
      "tensor([[[0.6003, 0.1998, 0.1998],\n",
      "         [0.9760, 0.0022, 0.0218]]])\n"
     ]
    }
   ],
   "source": [
    "#=== verify \n",
    "Z_p = Z.permute(0, 2, 1)\n",
    "print(Z_p.shape)\n",
    "\n",
    "softmax = nn.Softmax(dim=-1)\n",
    "output = softmax(Z_p)\n",
    "print(output)"
   ]
  },
  {
   "cell_type": "code",
   "execution_count": 29,
   "id": "ff7b5839-fe56-4617-acbe-ea7befea3987",
   "metadata": {},
   "outputs": [
    {
     "name": "stdout",
     "output_type": "stream",
     "text": [
      "1.6104384127676838\n",
      "0.024292692569044587\n",
      "0.8173\n"
     ]
    }
   ],
   "source": [
    "print(-np.log(0.1998))\n",
    "print(-np.log(0.9760))\n",
    "print( (1.6104+0.0242)/2 )"
   ]
  },
  {
   "cell_type": "code",
   "execution_count": null,
   "id": "942a30f4-fa22-4a18-a03f-9d39659c00fc",
   "metadata": {},
   "outputs": [],
   "source": []
  },
  {
   "cell_type": "markdown",
   "id": "747768d9-241e-4e54-bad0-f3c1d7ad93f0",
   "metadata": {},
   "source": [
    "## Example 3"
   ]
  },
  {
   "cell_type": "code",
   "execution_count": 1,
   "id": "313d816c-99d9-4789-8be0-fcb465a1adfa",
   "metadata": {},
   "outputs": [
    {
     "name": "stdout",
     "output_type": "stream",
     "text": [
      "tensor([1.2000, 0.1000, 0.1000])\n",
      "tensor([ 3.6000, -2.5000, -0.2000])\n",
      "tensor([[1, 0]])\n"
     ]
    }
   ],
   "source": [
    "import torch\n",
    "import torch.nn as nn\n",
    "\n",
    "N = 1\n",
    "C = 3\n",
    "d = 2\n",
    "\n",
    "Z = torch.Tensor([1.2, 3.6, 0.1, -2.5, 0.1, -0.2]).reshape(N, C, d)\n",
    "y = torch.Tensor([[1, 0]]).long()\n",
    "print(Z[0, :, 0])\n",
    "print(Z[0, :, 1])\n",
    "print(y)"
   ]
  },
  {
   "cell_type": "code",
   "execution_count": 2,
   "id": "0d996c8a-414c-4f13-912c-6b79a5a161f0",
   "metadata": {},
   "outputs": [
    {
     "name": "stdout",
     "output_type": "stream",
     "text": [
      "tensor(0.0243)\n"
     ]
    }
   ],
   "source": [
    "# Z: (N, C, d)\n",
    "# y: (N, d)\n",
    "criterion = nn.CrossEntropyLoss(ignore_index=1)\n",
    "loss = criterion(Z, y)\n",
    "print(loss)"
   ]
  },
  {
   "cell_type": "code",
   "execution_count": null,
   "id": "f150fbb5-603c-4657-a69c-2103ce6cdde6",
   "metadata": {},
   "outputs": [],
   "source": []
  }
 ],
 "metadata": {
  "kernelspec": {
   "display_name": "Python 3 (ipykernel)",
   "language": "python",
   "name": "python3"
  },
  "language_info": {
   "codemirror_mode": {
    "name": "ipython",
    "version": 3
   },
   "file_extension": ".py",
   "mimetype": "text/x-python",
   "name": "python",
   "nbconvert_exporter": "python",
   "pygments_lexer": "ipython3",
   "version": "3.11.5"
  }
 },
 "nbformat": 4,
 "nbformat_minor": 5
}
