{
 "cells": [
  {
   "cell_type": "markdown",
   "id": "7efe5b00-cda0-4c3f-9cbc-6fd590ebb4a6",
   "metadata": {},
   "source": [
    "## Data"
   ]
  },
  {
   "cell_type": "code",
   "execution_count": 1,
   "id": "22382432-34a8-474b-9519-af1168597ea1",
   "metadata": {},
   "outputs": [],
   "source": [
    "import torch\n",
    "import torch.nn as nn\n",
    "from torchtext.data.utils import get_tokenizer\n",
    "from torchtext.vocab import build_vocab_from_iterator\n",
    "\n",
    "corpus = [\n",
    "    \"i want a dog\",\n",
    "    \"books are expensive\"    \n",
    "]\n",
    "\n",
    "# 0: noun/pronoun - 1: verb - others - 2\n",
    "labels = [[0, 1, 2, 0],\n",
    "          [0, 1, 2]]\n",
    "\n",
    "# Define the max vocabulary size and sequence length\n",
    "vocab_size = 7\n",
    "sequence_length = 4"
   ]
  },
  {
   "cell_type": "code",
   "execution_count": 2,
   "id": "05f944c9-368e-4a09-9390-cd52150df493",
   "metadata": {},
   "outputs": [
    {
     "name": "stdout",
     "output_type": "stream",
     "text": [
      "['i', 'want', 'a', 'dog', 'books', 'are', 'expensive']\n",
      "[0, 1, 2, 0, 0, 1, 2]\n"
     ]
    }
   ],
   "source": [
    "corpus_words = []\n",
    "for sentence in corpus:\n",
    "    corpus_words.extend(sentence.split())\n",
    "\n",
    "data_size = len(corpus_words)\n",
    "print(corpus_words)\n",
    "\n",
    "label_words = []\n",
    "for labels in labels:\n",
    "    label_words.extend(labels)\n",
    "print(label_words)"
   ]
  },
  {
   "cell_type": "code",
   "execution_count": null,
   "id": "b9405679-2ef6-4c4c-8025-c03522e1f276",
   "metadata": {},
   "outputs": [],
   "source": []
  },
  {
   "cell_type": "code",
   "execution_count": 3,
   "id": "2726650a-52ef-4150-9b09-0071d0ce2a31",
   "metadata": {},
   "outputs": [
    {
     "data": {
      "text/plain": [
       "{'i': 5, 'a': 0, 'are': 1, 'dog': 3, 'books': 2, 'expensive': 4, 'want': 6}"
      ]
     },
     "execution_count": 3,
     "metadata": {},
     "output_type": "execute_result"
    }
   ],
   "source": [
    "# Define tokenizer function\n",
    "tokenizer = get_tokenizer('basic_english')\n",
    "\n",
    "# Create a function to yield list of tokens\n",
    "def yield_tokens(examples):\n",
    "    for text in examples:\n",
    "        yield tokenizer(text)\n",
    "\n",
    "# Create vocabulary\n",
    "vocab = build_vocab_from_iterator(yield_tokens(corpus),\n",
    "                                  max_tokens=vocab_size)\n",
    "vocab.get_stoi()"
   ]
  },
  {
   "cell_type": "code",
   "execution_count": 4,
   "id": "3192fcd6-d411-4312-afcd-88fe4e64a8b9",
   "metadata": {},
   "outputs": [
    {
     "name": "stdout",
     "output_type": "stream",
     "text": [
      "tensor([5, 6, 0, 3, 2, 1, 4])\n"
     ]
    }
   ],
   "source": [
    "token_ids = [vocab[token] for token in corpus_words]\n",
    "token_ids = torch.tensor(token_ids, dtype=torch.long)\n",
    "print(token_ids)"
   ]
  },
  {
   "cell_type": "code",
   "execution_count": null,
   "id": "5de2a679-494b-458d-b271-b10db85a2b70",
   "metadata": {},
   "outputs": [],
   "source": []
  },
  {
   "cell_type": "markdown",
   "id": "b547154b-2223-4e4f-a875-119ec33f9812",
   "metadata": {},
   "source": [
    "## Train with full data"
   ]
  },
  {
   "cell_type": "code",
   "execution_count": 5,
   "id": "bb26d7d5-81e3-4cf3-90ff-99b3bfa5524d",
   "metadata": {},
   "outputs": [],
   "source": [
    "embedding = nn.Embedding(vocab_size, 4)\n",
    "fc = nn.Linear(4, 3)\n",
    "flatten = nn.Flatten()\n",
    "model = nn.Sequential(embedding, flatten, fc)"
   ]
  },
  {
   "cell_type": "code",
   "execution_count": 6,
   "id": "32ed2deb-b3e3-4a70-8b85-c575001fc213",
   "metadata": {},
   "outputs": [],
   "source": [
    "criterion = nn.CrossEntropyLoss()\n",
    "optimizer = torch.optim.Adam(model.parameters(), lr=0.1)"
   ]
  },
  {
   "cell_type": "code",
   "execution_count": null,
   "id": "910680f9-acb5-493e-a194-a3f18f4788f0",
   "metadata": {},
   "outputs": [],
   "source": []
  },
  {
   "cell_type": "code",
   "execution_count": 7,
   "id": "cbee29f3-5988-4f5f-a9f1-fb13f137a91d",
   "metadata": {},
   "outputs": [
    {
     "name": "stdout",
     "output_type": "stream",
     "text": [
      "1.0302027463912964\n",
      "0.7981552481651306\n",
      "0.6376959681510925\n",
      "0.5274735689163208\n",
      "0.44960522651672363\n",
      "0.3918246626853943\n",
      "0.34478044509887695\n",
      "0.3014029860496521\n",
      "0.2576104998588562\n",
      "0.21222460269927979\n",
      "0.16613294184207916\n",
      "0.12167713791131973\n",
      "0.08220910280942917\n",
      "0.0509515181183815\n",
      "0.02927975542843342\n",
      "0.016021504998207092\n",
      "0.008621891029179096\n",
      "0.00469199800863862\n",
      "0.00263197161257267\n",
      "0.0015381263801828027\n",
      "0.0009400874259881675\n",
      "0.000600572966504842\n",
      "0.000399845332140103\n",
      "0.0002762766380328685\n",
      "0.00019734578381758183\n",
      "0.00014517587260343134\n",
      "0.00010964039393002167\n",
      "8.47893170430325e-05\n",
      "6.700028461636975e-05\n",
      "5.3976680646883324e-05\n"
     ]
    }
   ],
   "source": [
    "input_data = torch.tensor( [[5], [6], [0], [3], [2], [1], [4]], dtype=torch.long)\n",
    "label_data = torch.tensor([0, 1, 2, 0, 0, 1, 2], dtype=torch.long)\n",
    "\n",
    "for _ in range(30):\n",
    "    optimizer.zero_grad()\n",
    "    outputs = model(input_data)\n",
    "    loss = criterion(outputs, label_data)\n",
    "    print(loss.item())\n",
    "    loss.backward()\n",
    "    optimizer.step()"
   ]
  },
  {
   "cell_type": "code",
   "execution_count": 8,
   "id": "b562b790-b1f8-4e0c-a1cc-2453ee3f3a1a",
   "metadata": {},
   "outputs": [
    {
     "name": "stdout",
     "output_type": "stream",
     "text": [
      "tensor([[  7.6817,  -8.1848,  -6.0648],\n",
      "        [ -6.1424,  10.2136,  -1.0948],\n",
      "        [ -1.1817,  -4.7183,   7.0409],\n",
      "        [  7.8595,  -8.3286,  -4.0635],\n",
      "        [  8.4120, -10.0803,  -3.4524],\n",
      "        [ -5.1597,  10.0293,  -2.1230],\n",
      "        [ -3.1693,  -4.9210,  11.1362]], grad_fn=<AddmmBackward0>)\n",
      "tensor([[1.0000e+00, 1.2862e-07, 1.0715e-06],\n",
      "        [7.8825e-08, 9.9999e-01, 1.2268e-05],\n",
      "        [2.6845e-04, 7.8148e-06, 9.9972e-01],\n",
      "        [9.9999e-01, 9.3239e-08, 6.6363e-06],\n",
      "        [9.9999e-01, 9.3095e-09, 7.0364e-06],\n",
      "        [2.5322e-07, 9.9999e-01, 5.2766e-06],\n",
      "        [6.1258e-07, 1.0628e-07, 1.0000e+00]], grad_fn=<SoftmaxBackward0>)\n"
     ]
    }
   ],
   "source": [
    "outputs = model(input_data)\n",
    "print(outputs)\n",
    "print(torch.softmax(outputs, axis=-1))"
   ]
  },
  {
   "cell_type": "code",
   "execution_count": 9,
   "id": "7cd76225-a340-42ea-8352-81cdf3c56e99",
   "metadata": {},
   "outputs": [
    {
     "data": {
      "text/plain": [
       "tensor([0, 1, 2, 0, 0, 1, 2])"
      ]
     },
     "execution_count": 9,
     "metadata": {},
     "output_type": "execute_result"
    }
   ],
   "source": [
    "#label_data = torch.tensor([0, 1, 2, 0, 0, 1, 2], dtype=torch.long)\n",
    "outputs.argmax(axis=1)"
   ]
  },
  {
   "cell_type": "code",
   "execution_count": null,
   "id": "7e351ef5-c01e-47b9-8f2e-fbae9d0f2fa7",
   "metadata": {},
   "outputs": [],
   "source": []
  }
 ],
 "metadata": {
  "kernelspec": {
   "display_name": "Python 3 (ipykernel)",
   "language": "python",
   "name": "python3"
  },
  "language_info": {
   "codemirror_mode": {
    "name": "ipython",
    "version": 3
   },
   "file_extension": ".py",
   "mimetype": "text/x-python",
   "name": "python",
   "nbconvert_exporter": "python",
   "pygments_lexer": "ipython3",
   "version": "3.11.5"
  }
 },
 "nbformat": 4,
 "nbformat_minor": 5
}
