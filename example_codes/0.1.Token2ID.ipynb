{
 "cells": [
  {
   "cell_type": "markdown",
   "id": "8dfdf32c-313e-4df9-9687-b079180964b5",
   "metadata": {},
   "source": [
    "## Way 1"
   ]
  },
  {
   "cell_type": "code",
   "execution_count": 1,
   "id": "03388177-ef13-437d-92ce-262f16dc7699",
   "metadata": {},
   "outputs": [],
   "source": [
    "import torch\n",
    "from torchtext.data.utils import get_tokenizer\n",
    "from torchtext.vocab import build_vocab_from_iterator\n",
    "\n",
    "sample1 = 'We are learning AI'\n",
    "sample2 = 'AI is a CS topic'\n",
    "data = [sample1, sample2]\n",
    "\n",
    "# Define the max vocabulary size and sequence length\n",
    "vocab_size = 8\n",
    "sequence_length = 5"
   ]
  },
  {
   "cell_type": "code",
   "execution_count": 2,
   "id": "0cc20d2e-2eed-432b-bf09-d87252bbfdea",
   "metadata": {},
   "outputs": [
    {
     "name": "stdout",
     "output_type": "stream",
     "text": [
      "['we', 'are', 'learning', 'ai']\n",
      "['ai', 'is', 'a', 'cs', 'topic']\n"
     ]
    }
   ],
   "source": [
    "# Define tokenizer function\n",
    "tokenizer = get_tokenizer('basic_english')\n",
    "print(tokenizer(sample1))\n",
    "print(tokenizer(sample2))"
   ]
  },
  {
   "cell_type": "code",
   "execution_count": 3,
   "id": "70dde60d-c09f-4288-9808-ecdb146c80a9",
   "metadata": {},
   "outputs": [
    {
     "data": {
      "text/plain": [
       "{'<unk>': 0,\n",
       " '<pad>': 1,\n",
       " 'ai': 2,\n",
       " 'a': 3,\n",
       " 'is': 6,\n",
       " 'are': 4,\n",
       " 'learning': 7,\n",
       " 'cs': 5}"
      ]
     },
     "execution_count": 3,
     "metadata": {},
     "output_type": "execute_result"
    }
   ],
   "source": [
    "# Create a function to yield list of tokens\n",
    "def yield_tokens(examples):\n",
    "    for text in examples:\n",
    "        yield tokenizer(text)\n",
    "\n",
    "# Create vocabulary\n",
    "vocab = build_vocab_from_iterator(yield_tokens(data),\n",
    "                                  max_tokens=vocab_size,\n",
    "                                  specials=[\"<unk>\", \"<pad>\"])\n",
    "vocab.set_default_index(vocab[\"<unk>\"])\n",
    "vocab.get_stoi()"
   ]
  },
  {
   "cell_type": "code",
   "execution_count": 4,
   "id": "b74f6808-f137-413f-9646-0ae72aad33fa",
   "metadata": {},
   "outputs": [
    {
     "name": "stdout",
     "output_type": "stream",
     "text": [
      "Vectorized Sample 1: tensor([0, 4, 7, 2, 1])\n",
      "Vectorized Sample 2: tensor([2, 6, 3, 5, 0])\n"
     ]
    }
   ],
   "source": [
    "# Tokenize and numericalize your samples\n",
    "def vectorize(text, vocab, sequence_length):\n",
    "    tokens = tokenizer(text)\n",
    "    token_ids = [vocab[token] for token in tokens][:sequence_length]\n",
    "    token_ids = token_ids + [vocab[\"<pad>\"]] * (sequence_length - len(tokens))\n",
    "    return torch.tensor(token_ids, dtype=torch.long)\n",
    "\n",
    "# Vectorize the samples\n",
    "vectorized_sample1 = vectorize(sample1, vocab, sequence_length)\n",
    "vectorized_sample2 = vectorize(sample2, vocab, sequence_length)\n",
    "\n",
    "print(\"Vectorized Sample 1:\", vectorized_sample1)\n",
    "print(\"Vectorized Sample 2:\", vectorized_sample2)"
   ]
  },
  {
   "cell_type": "code",
   "execution_count": null,
   "id": "790b21c8-82b0-4caa-87b1-b3e273267198",
   "metadata": {},
   "outputs": [],
   "source": []
  },
  {
   "cell_type": "markdown",
   "id": "6f5d16e6-09fd-4e40-b4c7-a7f659b30b59",
   "metadata": {},
   "source": [
    "## Way 2"
   ]
  },
  {
   "cell_type": "code",
   "execution_count": 1,
   "id": "0f735248-3bfe-4dba-814b-3f40e8ca740e",
   "metadata": {},
   "outputs": [],
   "source": [
    "from transformers import AutoTokenizer\n",
    "\n",
    "tokenizer = AutoTokenizer.from_pretrained(\"bert-base-uncased\")\n",
    "sequence_length = 5\n",
    "\n",
    "sample1 = 'We are learning AI'\n",
    "sample2 = 'AI is a CS topic'\n",
    "data = [sample1, sample2]"
   ]
  },
  {
   "cell_type": "code",
   "execution_count": null,
   "id": "58c066b0-efd5-4e2b-ac98-3e19c8057108",
   "metadata": {},
   "outputs": [],
   "source": []
  },
  {
   "cell_type": "code",
   "execution_count": 25,
   "id": "1dea5720-95d9-481b-a6f4-eed18951bb05",
   "metadata": {},
   "outputs": [
    {
     "name": "stdout",
     "output_type": "stream",
     "text": [
      "{'input_ids': [101, 2057, 2024, 4083, 9932, 102], 'token_type_ids': [0, 0, 0, 0, 0, 0], 'attention_mask': [1, 1, 1, 1, 1, 1]}\n"
     ]
    }
   ],
   "source": [
    "tokens = tokenizer('we are learning ai')\n",
    "print(tokens) "
   ]
  },
  {
   "cell_type": "code",
   "execution_count": 2,
   "id": "0380c75c-f31c-46ac-96ac-740c0b4711b5",
   "metadata": {},
   "outputs": [
    {
     "data": {
      "text/plain": [
       "[2057, 2024, 4083, 9932]"
      ]
     },
     "execution_count": 2,
     "metadata": {},
     "output_type": "execute_result"
    }
   ],
   "source": [
    "tokens =  sample1.lower().split()\n",
    "tokenizer.convert_tokens_to_ids(tokens)"
   ]
  },
  {
   "cell_type": "code",
   "execution_count": 27,
   "id": "ba05f9fc-f75d-47ad-b8a0-c7c789c04dd4",
   "metadata": {},
   "outputs": [
    {
     "data": {
      "text/plain": [
       "30522"
      ]
     },
     "execution_count": 27,
     "metadata": {},
     "output_type": "execute_result"
    }
   ],
   "source": [
    "len(tokenizer)"
   ]
  },
  {
   "cell_type": "code",
   "execution_count": 2,
   "id": "8af11003-320c-4e43-ab5b-4a17144cfba5",
   "metadata": {},
   "outputs": [
    {
     "data": {
      "text/plain": [
       "0"
      ]
     },
     "execution_count": 2,
     "metadata": {},
     "output_type": "execute_result"
    }
   ],
   "source": [
    "tokenizer.pad_token_id"
   ]
  },
  {
   "cell_type": "code",
   "execution_count": null,
   "id": "77a8c675-02f7-46b3-9724-8626ddd7a394",
   "metadata": {},
   "outputs": [],
   "source": []
  },
  {
   "cell_type": "markdown",
   "id": "9e400dd8-f333-4b5b-8e33-f659beb3f80e",
   "metadata": {},
   "source": [
    "## Dataset"
   ]
  },
  {
   "cell_type": "code",
   "execution_count": 8,
   "id": "0ef90857-5ae9-47e9-8a4c-7fa27f197117",
   "metadata": {},
   "outputs": [
    {
     "name": "stdout",
     "output_type": "stream",
     "text": [
      "['We are learning AI', 'AI is a CS topic']\n"
     ]
    }
   ],
   "source": [
    "import torch\n",
    "import torch.nn as nn\n",
    "from torch.utils.data import Dataset\n",
    "from transformers import AutoTokenizer\n",
    "\n",
    "tokenizer = AutoTokenizer.from_pretrained(\"bert-base-uncased\")\n",
    "sequence_length = 5\n",
    "\n",
    "sample1 = 'We are learning AI'\n",
    "sample2 = 'AI is a CS topic'\n",
    "sentences = [sample1, sample2]\n",
    "labels = [0, 1]\n",
    "print(sentences)"
   ]
  },
  {
   "cell_type": "code",
   "execution_count": 6,
   "id": "cb0849bd-b897-4fb6-8f04-17a0cc2cbf6c",
   "metadata": {},
   "outputs": [],
   "source": [
    "from torch.utils.data import Dataset\n",
    "\n",
    "class MyDataset(Dataset):\n",
    "    def __init__(self, sentences, labels, tokenizer, max_len):\n",
    "        super().__init__()\n",
    "        self.sentences = sentences\n",
    "        self.labels = labels\n",
    "        self.tokenizer = tokenizer\n",
    "        self.max_len = max_len\n",
    "\n",
    "    def __len__(self):\n",
    "        return len(self.sentences)\n",
    "    \n",
    "    def __getitem__(self, idx):\n",
    "        sentence = self.sentences[idx]\n",
    "        sentence_label = self.labels[idx]\n",
    "\n",
    "        tokens = sentence.split()\n",
    "        tokens = self.tokenizer.convert_tokens_to_ids(tokens)\n",
    "        tokens = self.pad_and_truncate(tokens)\n",
    "\n",
    "        return tokens, sentence_label\n",
    "    \n",
    "    def pad_and_truncate(self, tokens): \n",
    "        pad_id = self.tokenizer.pad_token_id\n",
    "        if len(tokens) < self.max_len:\n",
    "            padded_tokens = tokens + [pad_id] * (self.max_len - len(tokens))            \n",
    "        else:\n",
    "            padded_tokens = tokens[:self.max_len]\n",
    "            \n",
    "        return torch.tensor(padded_tokens)"
   ]
  },
  {
   "cell_type": "code",
   "execution_count": 9,
   "id": "e1bfe49f-19bf-401f-95d7-c30b435b9a2a",
   "metadata": {},
   "outputs": [],
   "source": [
    "from torch.utils.data import DataLoader\n",
    "\n",
    "train_set = MyDataset(sentences, labels, tokenizer, sequence_length)\n",
    "\n",
    "batch_size = 1\n",
    "train_loader = DataLoader(train_set, batch_size)"
   ]
  },
  {
   "cell_type": "code",
   "execution_count": 10,
   "id": "c69df00f-abe3-4f79-8fbe-9615aab3041c",
   "metadata": {},
   "outputs": [
    {
     "name": "stdout",
     "output_type": "stream",
     "text": [
      "tensor([[ 100, 2024, 4083,  100,    0]])\n",
      "tensor([0])\n",
      "tensor([[ 100, 2003, 1037,  100, 8476]])\n",
      "tensor([1])\n"
     ]
    }
   ],
   "source": [
    "for x,y in train_loader:\n",
    "    print(x)\n",
    "    print(y)"
   ]
  },
  {
   "cell_type": "code",
   "execution_count": null,
   "id": "7aac9981-c23c-40a8-983d-ac586248089d",
   "metadata": {},
   "outputs": [],
   "source": []
  },
  {
   "cell_type": "markdown",
   "id": "0c849846-559d-4186-a18a-e3fc97476ccd",
   "metadata": {},
   "source": [
    "## Embedding"
   ]
  },
  {
   "cell_type": "code",
   "execution_count": null,
   "id": "ccfc479f-5c26-4045-8c03-209e1d4cf791",
   "metadata": {},
   "outputs": [],
   "source": [
    "import torch.nn as nn\n",
    "\n",
    "embedding = nn.Embedding(vocab_size, 4)\n",
    "print(embedding)"
   ]
  },
  {
   "cell_type": "code",
   "execution_count": null,
   "id": "91752045-39cc-445c-b404-363f3960dbdf",
   "metadata": {},
   "outputs": [],
   "source": [
    "print(embedding.weight)"
   ]
  },
  {
   "cell_type": "code",
   "execution_count": null,
   "id": "21cd0037-0641-4d9d-a3ea-a868288499f2",
   "metadata": {},
   "outputs": [],
   "source": [
    "input1 = torch.tensor([0, 3, 6, 1, 0], dtype=torch.long)\n",
    "output1 = embedding(input1)\n",
    "print(output1)"
   ]
  }
 ],
 "metadata": {
  "kernelspec": {
   "display_name": "Python 3 (ipykernel)",
   "language": "python",
   "name": "python3"
  },
  "language_info": {
   "codemirror_mode": {
    "name": "ipython",
    "version": 3
   },
   "file_extension": ".py",
   "mimetype": "text/x-python",
   "name": "python",
   "nbconvert_exporter": "python",
   "pygments_lexer": "ipython3",
   "version": "3.11.5"
  }
 },
 "nbformat": 4,
 "nbformat_minor": 5
}
