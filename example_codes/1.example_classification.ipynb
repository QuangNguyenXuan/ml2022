{
 "cells": [
  {
   "cell_type": "markdown",
   "id": "7efe5b00-cda0-4c3f-9cbc-6fd590ebb4a6",
   "metadata": {},
   "source": [
    "## Data"
   ]
  },
  {
   "cell_type": "code",
   "execution_count": 1,
   "id": "22382432-34a8-474b-9519-af1168597ea1",
   "metadata": {},
   "outputs": [],
   "source": [
    "import torch\n",
    "import torch.nn as nn\n",
    "from torchtext.data.utils import get_tokenizer\n",
    "from torchtext.vocab import build_vocab_from_iterator\n",
    "\n",
    "corpus = [\n",
    "    \"gậy ông đập lưng ông\",\n",
    "    \"có làm mới có ăn\"    \n",
    "]\n",
    "data_size = len(corpus)\n",
    "\n",
    "# 0: negative - 1: positive\n",
    "labels = [0, 1] \n",
    "\n",
    "# Define the max vocabulary size and sequence length\n",
    "vocab_size = 8\n",
    "sequence_length = 5"
   ]
  },
  {
   "cell_type": "code",
   "execution_count": 2,
   "id": "2726650a-52ef-4150-9b09-0071d0ce2a31",
   "metadata": {},
   "outputs": [
    {
     "data": {
      "text/plain": [
       "{'ông': 3,\n",
       " '<unk>': 0,\n",
       " '<pad>': 1,\n",
       " 'mới': 7,\n",
       " 'có': 2,\n",
       " 'gậy': 4,\n",
       " 'làm': 5,\n",
       " 'lưng': 6}"
      ]
     },
     "execution_count": 2,
     "metadata": {},
     "output_type": "execute_result"
    }
   ],
   "source": [
    "# Define tokenizer function\n",
    "tokenizer = get_tokenizer('basic_english')\n",
    "\n",
    "# Create a function to yield list of tokens\n",
    "def yield_tokens(examples):\n",
    "    for text in examples:\n",
    "        yield tokenizer(text)\n",
    "\n",
    "# Create vocabulary\n",
    "vocab = build_vocab_from_iterator(yield_tokens(corpus),\n",
    "                                  max_tokens=vocab_size,\n",
    "                                  specials=[\"<unk>\", \"<pad>\"])\n",
    "vocab.set_default_index(vocab[\"<unk>\"])\n",
    "vocab.get_stoi()"
   ]
  },
  {
   "cell_type": "code",
   "execution_count": 3,
   "id": "3192fcd6-d411-4312-afcd-88fe4e64a8b9",
   "metadata": {},
   "outputs": [],
   "source": [
    "# Tokenize and numericalize your samples\n",
    "def vectorize(text, vocab, sequence_length):\n",
    "    tokens = tokenizer(text)\n",
    "    token_ids = [vocab[token] for token in tokens][:sequence_length]\n",
    "    token_ids = token_ids + [vocab[\"<pad>\"]] * (sequence_length - len(tokens))\n",
    "    return torch.tensor(token_ids, dtype=torch.long)\n",
    "\n",
    "# Vectorize the samples\n",
    "corpus_ids = []\n",
    "for sentence in corpus:\n",
    "    corpus_ids.append(vectorize(sentence, vocab, sequence_length))"
   ]
  },
  {
   "cell_type": "code",
   "execution_count": 4,
   "id": "c1189966-b5d0-4bbe-9805-712e206b533c",
   "metadata": {},
   "outputs": [
    {
     "name": "stdout",
     "output_type": "stream",
     "text": [
      "tensor([4, 3, 0, 6, 3])\n",
      "tensor([2, 5, 7, 2, 0])\n"
     ]
    }
   ],
   "source": [
    "for v in corpus_ids:\n",
    "    print(v)"
   ]
  },
  {
   "cell_type": "code",
   "execution_count": null,
   "id": "5de2a679-494b-458d-b271-b10db85a2b70",
   "metadata": {},
   "outputs": [],
   "source": []
  },
  {
   "cell_type": "markdown",
   "id": "cd4c5571-1104-44a2-a066-2118f4861e9a",
   "metadata": {},
   "source": [
    "## Model"
   ]
  },
  {
   "cell_type": "code",
   "execution_count": 5,
   "id": "ff4aa45e-658b-4ecc-ac1c-2e12d06440ba",
   "metadata": {},
   "outputs": [],
   "source": [
    "embedding = nn.Embedding(vocab_size, 2)\n",
    "fc = nn.Linear(10, 2)\n",
    "flatten = nn.Flatten()\n",
    "\n",
    "model = nn.Sequential(embedding, flatten, fc)"
   ]
  },
  {
   "cell_type": "code",
   "execution_count": null,
   "id": "21a09076-bc00-4a43-a22c-f805fe3120ba",
   "metadata": {},
   "outputs": [],
   "source": []
  },
  {
   "cell_type": "markdown",
   "id": "b547154b-2223-4e4f-a875-119ec33f9812",
   "metadata": {},
   "source": [
    "## Train with full data"
   ]
  },
  {
   "cell_type": "code",
   "execution_count": 6,
   "id": "bb26d7d5-81e3-4cf3-90ff-99b3bfa5524d",
   "metadata": {},
   "outputs": [],
   "source": [
    "embedding = nn.Embedding(vocab_size, 2)\n",
    "fc = nn.Linear(10, 2)\n",
    "flatten = nn.Flatten()\n",
    "model = nn.Sequential(embedding, flatten, fc)"
   ]
  },
  {
   "cell_type": "code",
   "execution_count": 7,
   "id": "32ed2deb-b3e3-4a70-8b85-c575001fc213",
   "metadata": {},
   "outputs": [],
   "source": [
    "criterion = nn.CrossEntropyLoss()\n",
    "optimizer = torch.optim.Adam(model.parameters(), lr=0.01)"
   ]
  },
  {
   "cell_type": "code",
   "execution_count": null,
   "id": "910680f9-acb5-493e-a194-a3f18f4788f0",
   "metadata": {},
   "outputs": [],
   "source": []
  },
  {
   "cell_type": "code",
   "execution_count": 8,
   "id": "cbee29f3-5988-4f5f-a9f1-fb13f137a91d",
   "metadata": {},
   "outputs": [
    {
     "name": "stdout",
     "output_type": "stream",
     "text": [
      "0.8623576164245605\n",
      "0.7884228229522705\n",
      "0.7197414636611938\n",
      "0.6560235023498535\n",
      "0.597088634967804\n",
      "0.5427716374397278\n",
      "0.4928787350654602\n",
      "0.44717830419540405\n",
      "0.40541279315948486\n",
      "0.36731454730033875\n",
      "0.3326173722743988\n",
      "0.3010646104812622\n",
      "0.2724122405052185\n",
      "0.24643026292324066\n",
      "0.22290310263633728\n",
      "0.20162859559059143\n",
      "0.18241725862026215\n",
      "0.16509178280830383\n",
      "0.1494859755039215\n",
      "0.13544461131095886\n",
      "0.12282281368970871\n",
      "0.11148591339588165\n",
      "0.10130936652421951\n",
      "0.09217812120914459\n",
      "0.08398692309856415\n",
      "0.07663922756910324\n",
      "0.07004741579294205\n",
      "0.06413175165653229\n",
      "0.058820582926273346\n",
      "0.054049041122198105\n",
      "0.049759045243263245\n",
      "0.04589856043457985\n",
      "0.04242105036973953\n",
      "0.0392848439514637\n",
      "0.03645308315753937\n",
      "0.03389272093772888\n",
      "0.03157456964254379\n",
      "0.029472611844539642\n",
      "0.027563821524381638\n",
      "0.025827649980783463\n"
     ]
    }
   ],
   "source": [
    "input_data = torch.tensor( [[4, 3, 0, 6, 3],\n",
    "                            [2, 5, 7, 2, 0]], dtype=torch.long)\n",
    "label_data = torch.tensor([0, 1], dtype=torch.long)\n",
    "\n",
    "for _ in range(40):\n",
    "    optimizer.zero_grad()\n",
    "    outputs = model(input_data)\n",
    "    loss = criterion(outputs, label_data)\n",
    "    print(loss.item())\n",
    "    loss.backward()\n",
    "    optimizer.step()"
   ]
  },
  {
   "cell_type": "code",
   "execution_count": 9,
   "id": "b562b790-b1f8-4e0c-a1cc-2453ee3f3a1a",
   "metadata": {},
   "outputs": [
    {
     "name": "stdout",
     "output_type": "stream",
     "text": [
      "tensor([[ 1.5890, -2.2094],\n",
      "        [-1.7302,  1.8935]], grad_fn=<AddmmBackward0>)\n",
      "tensor([[0.9781, 0.0219],\n",
      "        [0.0260, 0.9740]], grad_fn=<SoftmaxBackward0>)\n"
     ]
    }
   ],
   "source": [
    "outputs = model(input_data)\n",
    "print(outputs)\n",
    "print(torch.softmax(outputs, axis=-1))"
   ]
  },
  {
   "cell_type": "code",
   "execution_count": null,
   "id": "7cd76225-a340-42ea-8352-81cdf3c56e99",
   "metadata": {},
   "outputs": [],
   "source": []
  },
  {
   "cell_type": "code",
   "execution_count": 10,
   "id": "7e351ef5-c01e-47b9-8f2e-fbae9d0f2fa7",
   "metadata": {},
   "outputs": [
    {
     "data": {
      "text/plain": [
       "tensor([0, 1])"
      ]
     },
     "execution_count": 10,
     "metadata": {},
     "output_type": "execute_result"
    }
   ],
   "source": [
    "# labels = [0, 1] \n",
    "outputs.argmax(axis=1)"
   ]
  }
 ],
 "metadata": {
  "kernelspec": {
   "display_name": "Python 3 (ipykernel)",
   "language": "python",
   "name": "python3"
  },
  "language_info": {
   "codemirror_mode": {
    "name": "ipython",
    "version": 3
   },
   "file_extension": ".py",
   "mimetype": "text/x-python",
   "name": "python",
   "nbconvert_exporter": "python",
   "pygments_lexer": "ipython3",
   "version": "3.11.5"
  }
 },
 "nbformat": 4,
 "nbformat_minor": 5
}
