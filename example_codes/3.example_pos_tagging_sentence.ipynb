{
 "cells": [
  {
   "cell_type": "markdown",
   "id": "7efe5b00-cda0-4c3f-9cbc-6fd590ebb4a6",
   "metadata": {},
   "source": [
    "## Data"
   ]
  },
  {
   "cell_type": "code",
   "execution_count": 1,
   "id": "22382432-34a8-474b-9519-af1168597ea1",
   "metadata": {},
   "outputs": [],
   "source": [
    "import torch\n",
    "import torch.nn as nn\n",
    "from torchtext.data.utils import get_tokenizer\n",
    "from torchtext.vocab import build_vocab_from_iterator\n",
    "\n",
    "corpus = [\n",
    "    \"i want a dog\",\n",
    "    \"books are quite expensive\"    \n",
    "]\n",
    "data_size = len(corpus)\n",
    "\n",
    "# 0: noun/pronoun - 1: verb - others - 2\n",
    "labels = [[0, 1, 2, 0],\n",
    "          [0, 1, 2, 2]]\n",
    "\n",
    "# Define the max vocabulary size and sequence length\n",
    "vocab_size = 8\n",
    "sequence_length = 4"
   ]
  },
  {
   "cell_type": "code",
   "execution_count": 2,
   "id": "2726650a-52ef-4150-9b09-0071d0ce2a31",
   "metadata": {},
   "outputs": [
    {
     "data": {
      "text/plain": [
       "{'i': 5,\n",
       " 'a': 0,\n",
       " 'are': 1,\n",
       " 'quite': 6,\n",
       " 'dog': 3,\n",
       " 'books': 2,\n",
       " 'expensive': 4,\n",
       " 'want': 7}"
      ]
     },
     "execution_count": 2,
     "metadata": {},
     "output_type": "execute_result"
    }
   ],
   "source": [
    "# Define tokenizer function\n",
    "tokenizer = get_tokenizer('basic_english')\n",
    "\n",
    "# Create a function to yield list of tokens\n",
    "def yield_tokens(examples):\n",
    "    for text in examples:\n",
    "        yield tokenizer(text)\n",
    "\n",
    "# Create vocabulary\n",
    "vocab = build_vocab_from_iterator(yield_tokens(corpus),\n",
    "                                  max_tokens=vocab_size)\n",
    "vocab.get_stoi()"
   ]
  },
  {
   "cell_type": "code",
   "execution_count": 3,
   "id": "3192fcd6-d411-4312-afcd-88fe4e64a8b9",
   "metadata": {},
   "outputs": [],
   "source": [
    "# Tokenize and numericalize your samples\n",
    "def vectorize(text, vocab, sequence_length):\n",
    "    tokens = tokenizer(text)\n",
    "    token_ids = [vocab[token] for token in tokens]\n",
    "    return torch.tensor(token_ids, dtype=torch.long)\n",
    "\n",
    "# Vectorize the samples\n",
    "corpus_ids = []\n",
    "for sentence in corpus:\n",
    "    corpus_ids.append(vectorize(sentence, vocab, sequence_length))"
   ]
  },
  {
   "cell_type": "code",
   "execution_count": 4,
   "id": "c1189966-b5d0-4bbe-9805-712e206b533c",
   "metadata": {},
   "outputs": [
    {
     "name": "stdout",
     "output_type": "stream",
     "text": [
      "tensor([5, 7, 0, 3])\n",
      "tensor([2, 1, 6, 4])\n"
     ]
    }
   ],
   "source": [
    "for v in corpus_ids:\n",
    "    print(v)"
   ]
  },
  {
   "cell_type": "markdown",
   "id": "cd4c5571-1104-44a2-a066-2118f4861e9a",
   "metadata": {},
   "source": [
    "## Model"
   ]
  },
  {
   "cell_type": "code",
   "execution_count": 5,
   "id": "2c8843b2-83e1-408f-b9d1-0f7983cd7c59",
   "metadata": {},
   "outputs": [],
   "source": [
    "class POS_Model(nn.Module):\n",
    "    def __init__(self, vocab_size, num_classes):\n",
    "        super().__init__()\n",
    "        self.embedding = nn.Embedding(vocab_size, 4)\n",
    "        self.fc = nn.Linear(4, num_classes)\n",
    "\n",
    "    def forward(self, x):\n",
    "        x = self.embedding(x)\n",
    "        x = self.fc(x)\n",
    "        return x.permute(0, 2, 1)\n",
    "\n",
    "model = POS_Model(vocab_size, 3)"
   ]
  },
  {
   "cell_type": "code",
   "execution_count": 6,
   "id": "21a09076-bc00-4a43-a22c-f805fe3120ba",
   "metadata": {},
   "outputs": [
    {
     "name": "stdout",
     "output_type": "stream",
     "text": [
      "torch.Size([1, 3, 4])\n"
     ]
    }
   ],
   "source": [
    "input_1 = torch.tensor([[5, 7, 0, 3]], dtype=torch.long)\n",
    "output = model(input_1)\n",
    "print(output.shape)"
   ]
  },
  {
   "cell_type": "code",
   "execution_count": null,
   "id": "f6a83ea9-358e-4cd0-8324-392faddfa6b6",
   "metadata": {},
   "outputs": [],
   "source": []
  },
  {
   "cell_type": "markdown",
   "id": "b547154b-2223-4e4f-a875-119ec33f9812",
   "metadata": {},
   "source": [
    "## Train with full data"
   ]
  },
  {
   "cell_type": "code",
   "execution_count": 7,
   "id": "32ed2deb-b3e3-4a70-8b85-c575001fc213",
   "metadata": {},
   "outputs": [],
   "source": [
    "criterion = nn.CrossEntropyLoss()\n",
    "optimizer = torch.optim.Adam(model.parameters(), lr=0.03)"
   ]
  },
  {
   "cell_type": "code",
   "execution_count": null,
   "id": "910680f9-acb5-493e-a194-a3f18f4788f0",
   "metadata": {},
   "outputs": [],
   "source": [
    "    "
   ]
  },
  {
   "cell_type": "code",
   "execution_count": 8,
   "id": "cbee29f3-5988-4f5f-a9f1-fb13f137a91d",
   "metadata": {},
   "outputs": [
    {
     "name": "stdout",
     "output_type": "stream",
     "text": [
      "1.0044304132461548\n",
      "0.948207437992096\n",
      "0.9011487364768982\n",
      "0.861030101776123\n",
      "0.8250694274902344\n",
      "0.7915202379226685\n",
      "0.7594226598739624\n",
      "0.7282181978225708\n",
      "0.6976487636566162\n",
      "0.6676508188247681\n",
      "0.6382557153701782\n",
      "0.6095340847969055\n",
      "0.5815730094909668\n",
      "0.554461658000946\n",
      "0.5282794833183289\n",
      "0.5030937790870667\n",
      "0.4789634048938751\n",
      "0.4559418261051178\n",
      "0.4340704083442688\n",
      "0.4133661985397339\n",
      "0.3938120901584625\n",
      "0.37535619735717773\n",
      "0.3579255938529968\n",
      "0.34144851565361023\n",
      "0.3258778750896454\n",
      "0.31120485067367554\n",
      "0.29745540022850037\n",
      "0.2846730053424835\n",
      "0.2728950083255768\n",
      "0.26213353872299194\n"
     ]
    }
   ],
   "source": [
    "input_data = torch.tensor( [[5, 7, 0, 3],\n",
    "                            [2, 1, 7, 4]], dtype=torch.long)\n",
    "label_data = torch.tensor([[0, 1, 2, 0],\n",
    "                           [0, 1, 2, 2]], dtype=torch.long)\n",
    "\n",
    "for _ in range(30):\n",
    "    optimizer.zero_grad()\n",
    "    outputs = model(input_data)\n",
    "    loss = criterion(outputs, label_data)\n",
    "    print(loss.item())\n",
    "    loss.backward()\n",
    "    optimizer.step()"
   ]
  },
  {
   "cell_type": "code",
   "execution_count": 9,
   "id": "b562b790-b1f8-4e0c-a1cc-2453ee3f3a1a",
   "metadata": {},
   "outputs": [
    {
     "name": "stdout",
     "output_type": "stream",
     "text": [
      "tensor([0.9853, 0.0131, 0.0016], grad_fn=<SelectBackward0>)\n",
      "tensor([0.0065, 0.4874, 0.5061], grad_fn=<SelectBackward0>)\n",
      "tensor([1.8751e-05, 1.1899e-01, 8.8099e-01], grad_fn=<SelectBackward0>)\n",
      "tensor([9.7668e-01, 2.2620e-02, 6.9982e-04], grad_fn=<SelectBackward0>)\n",
      "\n",
      "tensor([0.9872, 0.0106, 0.0022], grad_fn=<SelectBackward0>)\n",
      "tensor([0.0636, 0.7345, 0.2019], grad_fn=<SelectBackward0>)\n",
      "tensor([0.0065, 0.4874, 0.5061], grad_fn=<SelectBackward0>)\n",
      "tensor([0.0187, 0.1055, 0.8758], grad_fn=<SelectBackward0>)\n"
     ]
    }
   ],
   "source": [
    "outputs = model(input_data)\n",
    "o_softmax = torch.softmax(outputs, axis=1)\n",
    "\n",
    "print(o_softmax[0, :, 0])\n",
    "print(o_softmax[0, :, 1])\n",
    "print(o_softmax[0, :, 2])\n",
    "print(o_softmax[0, :, 3])\n",
    "\n",
    "print()\n",
    "print(o_softmax[1, :, 0])\n",
    "print(o_softmax[1, :, 1])\n",
    "print(o_softmax[1, :, 2])\n",
    "print(o_softmax[1, :, 3])"
   ]
  },
  {
   "cell_type": "code",
   "execution_count": 10,
   "id": "7cd76225-a340-42ea-8352-81cdf3c56e99",
   "metadata": {},
   "outputs": [
    {
     "data": {
      "text/plain": [
       "tensor([[0, 2, 2, 0],\n",
       "        [0, 1, 2, 2]])"
      ]
     },
     "execution_count": 10,
     "metadata": {},
     "output_type": "execute_result"
    }
   ],
   "source": [
    "# labels = [[0, 1, 2, 0],\n",
    "#          [0, 1, 2, 2]]\n",
    "\n",
    "o_softmax.argmax(axis=1)"
   ]
  },
  {
   "cell_type": "code",
   "execution_count": null,
   "id": "7e351ef5-c01e-47b9-8f2e-fbae9d0f2fa7",
   "metadata": {},
   "outputs": [],
   "source": []
  }
 ],
 "metadata": {
  "kernelspec": {
   "display_name": "Python 3 (ipykernel)",
   "language": "python",
   "name": "python3"
  },
  "language_info": {
   "codemirror_mode": {
    "name": "ipython",
    "version": 3
   },
   "file_extension": ".py",
   "mimetype": "text/x-python",
   "name": "python",
   "nbconvert_exporter": "python",
   "pygments_lexer": "ipython3",
   "version": "3.11.5"
  }
 },
 "nbformat": 4,
 "nbformat_minor": 5
}
