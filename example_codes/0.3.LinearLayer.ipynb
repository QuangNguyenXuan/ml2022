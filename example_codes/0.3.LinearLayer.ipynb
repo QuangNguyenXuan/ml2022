{
 "cells": [
  {
   "cell_type": "markdown",
   "id": "02654447-5bc1-4fed-92d7-67d91dd58d0f",
   "metadata": {},
   "source": [
    "## Example 1"
   ]
  },
  {
   "cell_type": "code",
   "execution_count": 8,
   "id": "93c41890-322e-4092-96e9-15837190b2e1",
   "metadata": {},
   "outputs": [],
   "source": [
    "import torch\n",
    "import torch.nn as nn\n",
    "import torch.nn.functional as F\n",
    "\n",
    "class MyModel(nn.Module):\n",
    "    def __init__(self):\n",
    "        super().__init__()\n",
    "        self.fc1 = nn.Linear(100, 5)\n",
    "        self.fc2 = nn.Linear(5, 3)\n",
    "\n",
    "    def forward(self, x):\n",
    "        x = F.relu(self.fc1(x))\n",
    "        x = self.fc2(x)\n",
    "        return x"
   ]
  },
  {
   "cell_type": "code",
   "execution_count": 9,
   "id": "3042e071-3386-4fc9-8165-88595bc86981",
   "metadata": {},
   "outputs": [
    {
     "data": {
      "text/plain": [
       "==========================================================================================\n",
       "Layer (type:depth-idx)                   Output Shape              Param #\n",
       "==========================================================================================\n",
       "MyModel                                  [32, 3]                   --\n",
       "├─Linear: 1-1                            [32, 5]                   505\n",
       "├─Linear: 1-2                            [32, 3]                   18\n",
       "==========================================================================================\n",
       "Total params: 523\n",
       "Trainable params: 523\n",
       "Non-trainable params: 0\n",
       "Total mult-adds (Units.MEGABYTES): 0.02\n",
       "==========================================================================================\n",
       "Input size (MB): 0.01\n",
       "Forward/backward pass size (MB): 0.00\n",
       "Params size (MB): 0.00\n",
       "Estimated Total Size (MB): 0.02\n",
       "=========================================================================================="
      ]
     },
     "execution_count": 9,
     "metadata": {},
     "output_type": "execute_result"
    }
   ],
   "source": [
    "from torchinfo import  summary\n",
    "\n",
    "input_x = torch.randn((32, 100))\n",
    "model = MyModel()\n",
    "\n",
    "summary(model, input_data=input_x)"
   ]
  },
  {
   "cell_type": "code",
   "execution_count": null,
   "id": "7c81d360-b2eb-436f-a48e-096e23895279",
   "metadata": {},
   "outputs": [],
   "source": []
  },
  {
   "cell_type": "markdown",
   "id": "7e6b3b35-d4f4-488e-be36-e8a0baeded92",
   "metadata": {},
   "source": [
    "## Example 2"
   ]
  },
  {
   "cell_type": "code",
   "execution_count": 10,
   "id": "79115293-f3d2-4f8c-923b-ffb551801bf4",
   "metadata": {},
   "outputs": [],
   "source": [
    "import torch\n",
    "import torch.nn as nn\n",
    "import torch.nn.functional as F\n",
    "\n",
    "class MyModel(nn.Module):\n",
    "    def __init__(self):\n",
    "        super().__init__()\n",
    "        self.fc1 = nn.Linear(100, 5)\n",
    "        self.fc2 = nn.Linear(5, 3)\n",
    "\n",
    "    def forward(self, x):\n",
    "        x = F.relu(self.fc1(x))\n",
    "        x = self.fc2(x)\n",
    "        return x"
   ]
  },
  {
   "cell_type": "code",
   "execution_count": 11,
   "id": "b1af604a-b6ec-40c6-bb13-3a741e019042",
   "metadata": {},
   "outputs": [
    {
     "data": {
      "text/plain": [
       "==========================================================================================\n",
       "Layer (type:depth-idx)                   Output Shape              Param #\n",
       "==========================================================================================\n",
       "MyModel                                  [32, 10, 3]               --\n",
       "├─Linear: 1-1                            [32, 10, 5]               505\n",
       "├─Linear: 1-2                            [32, 10, 3]               18\n",
       "==========================================================================================\n",
       "Total params: 523\n",
       "Trainable params: 523\n",
       "Non-trainable params: 0\n",
       "Total mult-adds (Units.MEGABYTES): 0.02\n",
       "==========================================================================================\n",
       "Input size (MB): 0.13\n",
       "Forward/backward pass size (MB): 0.02\n",
       "Params size (MB): 0.00\n",
       "Estimated Total Size (MB): 0.15\n",
       "=========================================================================================="
      ]
     },
     "execution_count": 11,
     "metadata": {},
     "output_type": "execute_result"
    }
   ],
   "source": [
    "from torchinfo import  summary\n",
    "\n",
    "input_x = torch.randn((32, 10, 100))\n",
    "model = MyModel()\n",
    "\n",
    "summary(model, input_data=input_x)"
   ]
  },
  {
   "cell_type": "code",
   "execution_count": null,
   "id": "93f9d0dd-6c4b-40f9-8a61-1afbe16114f1",
   "metadata": {},
   "outputs": [],
   "source": []
  }
 ],
 "metadata": {
  "kernelspec": {
   "display_name": "Python 3 (ipykernel)",
   "language": "python",
   "name": "python3"
  },
  "language_info": {
   "codemirror_mode": {
    "name": "ipython",
    "version": 3
   },
   "file_extension": ".py",
   "mimetype": "text/x-python",
   "name": "python",
   "nbconvert_exporter": "python",
   "pygments_lexer": "ipython3",
   "version": "3.11.5"
  }
 },
 "nbformat": 4,
 "nbformat_minor": 5
}
