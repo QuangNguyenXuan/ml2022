{
 "cells": [
  {
   "cell_type": "code",
   "execution_count": 1,
   "metadata": {},
   "outputs": [],
   "source": [
    "# one-max\n",
    "import random\n",
    "\n",
    "# gene\n",
    "def generate_01():\n",
    "    return random.randint(0, 1)\n",
    "\n",
    "# evaluate\n",
    "def compute_fitness(vector):\n",
    "    return sum(gen for gen in vector)\n",
    "\n",
    "def create_vector():\n",
    "    return [generate_01() for _ in range(n)]\n",
    "\n",
    "def exchange(vector1, vector2, rate=0.9):\n",
    "    vector1_new = vector1.copy()\n",
    "    vector2_new = vector2.copy()\n",
    "    \n",
    "    for i in range(n):\n",
    "        if random.random() < rate:\n",
    "            vector1_new[i] = vector2[i]\n",
    "            vector2_new[i] = vector1[i]            \n",
    "    \n",
    "    return vector1_new, vector2_new\n",
    "\n",
    "def explore(vector, rate=0.05):\n",
    "    vector_m = vector.copy()\n",
    "    \n",
    "    for i in range(n):\n",
    "        if random.random() < rate:\n",
    "            vector_m[i] = generate_01()\n",
    "        \n",
    "    return vector_m\n",
    "\n",
    "# population is sorted according to fitness\n",
    "def selection(sorted_vectors):    \n",
    "    index1 = random.randint(0, m-1)  \n",
    "    index2 = random.randint(0, m-1)\n",
    "    \n",
    "    while index2 == index1:\n",
    "        index2 = random.randint(0, m-1)\n",
    "    \n",
    "    \n",
    "    vector = sorted_vectors[index1]\n",
    "    if index2 > index1:\n",
    "        vector = sorted_vectors[index2]\n",
    "    \n",
    "    return vector"
   ]
  },
  {
   "cell_type": "code",
   "execution_count": 2,
   "metadata": {},
   "outputs": [
    {
     "name": "stdout",
     "output_type": "stream",
     "text": [
      "BEST: 15\n",
      "BEST: 15\n",
      "BEST: 17\n",
      "BEST: 17\n",
      "BEST: 18\n",
      "BEST: 18\n",
      "BEST: 18\n",
      "BEST: 18\n",
      "BEST: 18\n",
      "BEST: 19\n",
      "BEST: 19\n",
      "BEST: 19\n",
      "BEST: 20\n",
      "BEST: 20\n",
      "BEST: 20\n",
      "BEST: 20\n",
      "BEST: 20\n",
      "BEST: 20\n",
      "BEST: 20\n",
      "BEST: 20\n"
     ]
    }
   ],
   "source": [
    "n = 20                 # size of individual (chromosome)\n",
    "m = 50                 # size of population\n",
    "n_generations = 20     # number of generations\n",
    "\n",
    "# để vẽ biểu đồ quá trình tối ưu\n",
    "fitnesses = []\n",
    "\n",
    "\n",
    "# create population\n",
    "vectors = [create_vector() for _ in range(m)]\n",
    "\n",
    "# loops\n",
    "for i in range(n_generations):\n",
    "    # step 1: sort population\n",
    "    sorted_vectors = sorted(vectors, key=compute_fitness)\n",
    "        \n",
    "    if i%1 == 0:\n",
    "        fitnesses.append(compute_fitness(sorted_vectors[m-1]))\n",
    "        print(\"BEST:\", compute_fitness(sorted_vectors[m-1]))      \n",
    "    \n",
    "    new_vectors = []\n",
    "    while len(new_vectors) < m:\n",
    "        # step2: selection\n",
    "        vector_s1 = selection(sorted_vectors)\n",
    "        vector_s2 = selection(sorted_vectors) # duplication\n",
    "        \n",
    "        # step3: crossover\n",
    "        vector_c1, vector_c2 = exchange(vector_s1, vector_s2)\n",
    "        \n",
    "        # step4: mutation\n",
    "        vector_m1 = explore(vector_c1)\n",
    "        vector_m2 = explore(vector_c2)\n",
    "        \n",
    "        new_vectors.append(vector_m1)\n",
    "        new_vectors.append(vector_m2) \n",
    "        \n",
    "    # update\n",
    "    vectors = new_vectors"
   ]
  },
  {
   "cell_type": "code",
   "execution_count": null,
   "metadata": {},
   "outputs": [],
   "source": []
  },
  {
   "cell_type": "code",
   "execution_count": 3,
   "metadata": {},
   "outputs": [
    {
     "name": "stdout",
     "output_type": "stream",
     "text": [
      "[1, 1, 1, 1, 1, 1, 1, 1, 1, 1, 1, 1, 1, 1, 1, 1, 1, 1, 1, 1]\n"
     ]
    }
   ],
   "source": [
    "sorted_vectors = sorted(vectors, key=compute_fitness)\n",
    "vector_best = sorted_vectors[m-1]\n",
    "print(vector_best)"
   ]
  },
  {
   "cell_type": "code",
   "execution_count": 4,
   "metadata": {},
   "outputs": [
    {
     "data": {
      "image/png": "[encoded data removed]",
      "text/plain": [
       "<Figure size 640x480 with 1 Axes>"
      ]
     },
     "metadata": {},
     "output_type": "display_data"
    }
   ],
   "source": [
    "import matplotlib.pyplot as plt\n",
    "\n",
    "plt.plot(fitnesses)\n",
    "plt.xlabel('Generations')\n",
    "plt.ylabel('Fitness')\n",
    "plt.show()"
   ]
  },
  {
   "cell_type": "code",
   "execution_count": null,
   "metadata": {},
   "outputs": [],
   "source": []
  }
 ],
 "metadata": {
  "kernelspec": {
   "display_name": "Python 3 (ipykernel)",
   "language": "python",
   "name": "python3"
  },
  "language_info": {
   "codemirror_mode": {
    "name": "ipython",
    "version": 3
   },
   "file_extension": ".py",
   "mimetype": "text/x-python",
   "name": "python",
   "nbconvert_exporter": "python",
   "pygments_lexer": "ipython3",
   "version": "3.9.13"
  }
 },
 "nbformat": 4,
 "nbformat_minor": 2
}
