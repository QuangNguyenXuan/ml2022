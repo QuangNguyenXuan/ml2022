{
  "nbformat": 4,
  "nbformat_minor": 0,
  "metadata": {
    "colab": {
      "provenance": []
    },
    "kernelspec": {
      "name": "python3",
      "display_name": "Python 3"
    },
    "language_info": {
      "name": "python"
    }
  },
  "cells": [
    {
      "cell_type": "code",
      "execution_count": null,
      "metadata": {
        "id": "GCUzZOZ76jw8"
      },
      "outputs": [],
      "source": [
        "from sklearn.ensemble import AdaBoostClassifier\n",
        "from sklearn.model_selection import train_test_split\n",
        "from sklearn import metrics\n",
        "import pandas as pd"
      ]
    },
    {
      "cell_type": "code",
      "source": [
        "df = pd.read_csv(\"/content/drive/MyDrive/AI-VN-Programming/winequality-white.csv\", sep=\";\")\n",
        "df.head()\n",
        "X = df.iloc[:,:-1].values\n",
        "y = df.iloc[:,-1].values"
      ],
      "metadata": {
        "id": "wpX2n5fr7FSj"
      },
      "execution_count": null,
      "outputs": []
    },
    {
      "cell_type": "code",
      "source": [
        "X_train, X_test, y_train, y_test = train_test_split(X,y, test_size=0.3)"
      ],
      "metadata": {
        "id": "a2yiksE2ADIX"
      },
      "execution_count": null,
      "outputs": []
    },
    {
      "cell_type": "markdown",
      "source": [
        "AdaBoost"
      ],
      "metadata": {
        "id": "GdRrnrz0AWWk"
      }
    },
    {
      "cell_type": "code",
      "source": [
        "adaBoost = AdaBoostClassifier(n_estimators=50)\n",
        "adaBoost.fit(X_train,y_train)\n",
        "y_pred = adaBoost.predict(X_test)\n",
        "print(\"Accuracy score: \", metrics.accuracy_score(y_test,y_pred))"
      ],
      "metadata": {
        "colab": {
          "base_uri": "https://localhost:8080/"
        },
        "id": "-o7xqhfEAVx-",
        "outputId": "bfcefd78-c732-4a8a-ad71-740be718dfe7"
      },
      "execution_count": null,
      "outputs": [
        {
          "output_type": "stream",
          "name": "stdout",
          "text": [
            "Accuracy score:  0.44761904761904764\n"
          ]
        }
      ]
    },
    {
      "cell_type": "markdown",
      "source": [
        "Gradient Algorithm"
      ],
      "metadata": {
        "id": "LD53jzF7A3mc"
      }
    },
    {
      "cell_type": "code",
      "source": [
        "from sklearn.ensemble import GradientBoostingClassifier"
      ],
      "metadata": {
        "id": "dQK5d258A7fJ"
      },
      "execution_count": null,
      "outputs": []
    },
    {
      "cell_type": "code",
      "source": [
        "gdBoost = GradientBoostingClassifier(n_estimators=50, learning_rate=0.5, max_depth = 5)\n",
        "gdBoost.fit(X_train,y_train)\n",
        "y_pred = gdBoost.predict(X_test)\n",
        "print(\"Accuracy score: \", metrics.accuracy_score(y_test,y_pred))"
      ],
      "metadata": {
        "colab": {
          "base_uri": "https://localhost:8080/"
        },
        "id": "mwDXEzyRBMBn",
        "outputId": "d5c801e1-a81c-4d2e-ba3b-b449115865ba"
      },
      "execution_count": null,
      "outputs": [
        {
          "output_type": "stream",
          "name": "stdout",
          "text": [
            "Accuracy score:  0.6306122448979592\n"
          ]
        }
      ]
    },
    {
      "cell_type": "markdown",
      "source": [
        "XGBoost Algorithm"
      ],
      "metadata": {
        "id": "IBz20-rnBtHu"
      }
    },
    {
      "cell_type": "code",
      "source": [
        "from xgboost import XGBClassifier"
      ],
      "metadata": {
        "id": "RHhJNy3dBv8o"
      },
      "execution_count": null,
      "outputs": []
    },
    {
      "cell_type": "code",
      "source": [
        "xgBoost = XGBClassifier(n_estimators=50, learning_rate=0.5, max_depth = 5)\n",
        "xgBoost.fit(X_train,y_train)\n",
        "y_pred = xgBoost.predict(X_test)\n",
        "print(\"Accuracy score: \", metrics.accuracy_score(y_test,y_pred))"
      ],
      "metadata": {
        "colab": {
          "base_uri": "https://localhost:8080/"
        },
        "id": "8U_ZPFUIB3bS",
        "outputId": "3168ecd9-4e1f-415a-eb9f-9cb65095ae8e"
      },
      "execution_count": null,
      "outputs": [
        {
          "output_type": "stream",
          "name": "stdout",
          "text": [
            "Accuracy score:  0.645578231292517\n"
          ]
        }
      ]
    }
  ]
}