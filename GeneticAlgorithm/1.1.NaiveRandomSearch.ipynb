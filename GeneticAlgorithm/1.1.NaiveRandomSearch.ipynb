{
 "cells": [
  {
   "cell_type": "code",
   "execution_count": 1,
   "id": "5652c7d3",
   "metadata": {},
   "outputs": [],
   "source": [
    "import random\n",
    "\n",
    "def random_01():\n",
    "    if random.random() < 0.5:        \n",
    "        rand_int = 0\n",
    "    else:\n",
    "        rand_int = 1\n",
    "        \n",
    "    return rand_int\n",
    "\n",
    "def create_vector(n):\n",
    "    individual = [random.randint(0, 1) for _ in range(n)]\n",
    "    return individual\n",
    "\n",
    "# fitness function\n",
    "def secret(vector):\n",
    "    return sum(vector)"
   ]
  },
  {
   "cell_type": "code",
   "execution_count": 2,
   "id": "a01f2133",
   "metadata": {},
   "outputs": [
    {
     "name": "stdout",
     "output_type": "stream",
     "text": [
      "[1, 0, 0, 1, 1, 0, 0, 1, 0, 0]\n",
      "4\n"
     ]
    }
   ],
   "source": [
    "# vector length\n",
    "n = 10\n",
    "m = 8\n",
    "\n",
    "vector = create_vector(n)\n",
    "print(vector)\n",
    "\n",
    "fitness = secret(vector)\n",
    "print(fitness)"
   ]
  },
  {
   "cell_type": "code",
   "execution_count": null,
   "id": "74c9a0b2",
   "metadata": {},
   "outputs": [],
   "source": []
  },
  {
   "cell_type": "code",
   "execution_count": 3,
   "id": "6c70f461",
   "metadata": {},
   "outputs": [],
   "source": [
    "def generate_vectors(n, m):\n",
    "    vectors = [create_vector(n) for _ in range(m)]\n",
    "            \n",
    "    return vectors\n",
    "\n",
    "def print_vectors(vectors, m):\n",
    "    for i in range(m):\n",
    "        print(vectors[i])"
   ]
  },
  {
   "cell_type": "code",
   "execution_count": 4,
   "id": "0e3f71b1",
   "metadata": {},
   "outputs": [
    {
     "name": "stdout",
     "output_type": "stream",
     "text": [
      "[1, 1, 0, 1, 0, 1, 1, 0, 0, 1]\n",
      "[1, 1, 1, 0, 1, 1, 1, 1, 0, 1]\n",
      "[1, 1, 0, 0, 0, 0, 0, 1, 0, 1]\n",
      "[0, 0, 0, 0, 1, 0, 1, 1, 0, 1]\n",
      "[0, 0, 1, 0, 0, 0, 0, 0, 1, 0]\n",
      "[1, 0, 1, 1, 0, 1, 0, 1, 1, 0]\n",
      "[1, 0, 1, 1, 1, 1, 0, 1, 0, 1]\n",
      "[1, 0, 1, 1, 1, 0, 1, 1, 1, 1]\n"
     ]
    }
   ],
   "source": [
    "vectors = generate_vectors(n, m)\n",
    "print_vectors(vectors, m)"
   ]
  },
  {
   "cell_type": "code",
   "execution_count": null,
   "id": "e1eab2a9",
   "metadata": {},
   "outputs": [],
   "source": []
  },
  {
   "cell_type": "code",
   "execution_count": 5,
   "id": "1af4168b",
   "metadata": {},
   "outputs": [],
   "source": [
    "# fitness function\n",
    "def compute_fitness(vectors):\n",
    "    fitnesses = [secret(vector) for vector in vectors]\n",
    "    return fitnesses"
   ]
  },
  {
   "cell_type": "code",
   "execution_count": 6,
   "id": "1553bca5",
   "metadata": {},
   "outputs": [
    {
     "name": "stdout",
     "output_type": "stream",
     "text": [
      "[6, 8, 4, 4, 2, 6, 7, 8]\n"
     ]
    }
   ],
   "source": [
    "fitnesses = compute_fitness(vectors)\n",
    "print(fitnesses)"
   ]
  },
  {
   "cell_type": "code",
   "execution_count": null,
   "id": "f9eb124f",
   "metadata": {},
   "outputs": [],
   "source": []
  },
  {
   "cell_type": "code",
   "execution_count": 7,
   "id": "1728033a",
   "metadata": {},
   "outputs": [
    {
     "name": "stdout",
     "output_type": "stream",
     "text": [
      "[1, 1, 0, 1, 0, 0, 1, 1, 1, 0, 0, 0, 1, 0, 1]\n",
      "[0, 1, 1, 0, 1, 1, 0, 1, 1, 1, 0, 0, 0, 1, 1]\n",
      "[1, 1, 1, 0, 1, 0, 0, 0, 1, 0, 0, 0, 0, 0, 0]\n",
      "[1, 1, 0, 1, 0, 0, 1, 0, 1, 0, 0, 1, 1, 1, 0]\n",
      "[0, 1, 0, 0, 0, 1, 0, 1, 1, 1, 1, 0, 0, 1, 1]\n",
      "[1, 1, 1, 1, 0, 0, 0, 1, 0, 1, 0, 0, 0, 1, 1]\n",
      "[0, 0, 0, 1, 0, 0, 1, 1, 1, 1, 0, 0, 1, 0, 0]\n",
      "[1, 0, 0, 0, 1, 0, 0, 1, 1, 1, 1, 1, 1, 0, 0]\n",
      "fitnesses:  [8, 9, 5, 8, 8, 8, 6, 8]\n"
     ]
    }
   ],
   "source": [
    "# method 1: generate one set\n",
    "\n",
    "n = 15\n",
    "m = 8\n",
    "\n",
    "vectors = generate_vectors(n, m)\n",
    "print_vectors(vectors, m)\n",
    "\n",
    "fitnesses = compute_fitness(vectors)\n",
    "print('fitnesses: ', fitnesses)"
   ]
  },
  {
   "cell_type": "code",
   "execution_count": null,
   "id": "ec086188",
   "metadata": {},
   "outputs": [],
   "source": []
  },
  {
   "cell_type": "code",
   "execution_count": 8,
   "id": "6c6073a2",
   "metadata": {},
   "outputs": [
    {
     "name": "stdout",
     "output_type": "stream",
     "text": [
      "10 [6, 5, 8, 10, 10, 6, 10, 8]\n",
      "12 [7, 9, 8, 9, 5, 12, 5, 6]\n",
      "13 [8, 7, 5, 7, 13, 10, 6, 7]\n",
      "10 [10, 10, 7, 7, 6, 7, 5, 6]\n",
      "10 [10, 4, 7, 9, 7, 10, 7, 4]\n",
      "10 [8, 6, 6, 10, 7, 5, 7, 8]\n",
      "10 [9, 6, 6, 7, 7, 6, 9, 10]\n",
      "11 [4, 11, 9, 9, 3, 8, 9, 7]\n",
      "8 [6, 3, 8, 8, 8, 6, 7, 5]\n",
      "11 [10, 11, 8, 6, 9, 8, 8, 4]\n",
      "10 [9, 6, 10, 9, 7, 8, 9, 3]\n",
      "9 [7, 7, 5, 6, 8, 6, 9, 9]\n",
      "9 [7, 6, 9, 9, 9, 8, 6, 6]\n",
      "9 [5, 9, 4, 7, 8, 5, 6, 6]\n",
      "12 [8, 8, 12, 8, 6, 7, 10, 8]\n"
     ]
    }
   ],
   "source": [
    "# method 2: Generate different groups of m vectors\n",
    "\n",
    "n = 15\n",
    "m = 8\n",
    "\n",
    "# k loops\n",
    "k = 15\n",
    "\n",
    "for _ in range(k):\n",
    "    vectors   = generate_vectors(n, m)\n",
    "    fitnesses = compute_fitness(vectors)\n",
    "    max_score = max(fitnesses)\n",
    "    print(max_score, fitnesses)"
   ]
  },
  {
   "cell_type": "code",
   "execution_count": null,
   "id": "1c79a727",
   "metadata": {},
   "outputs": [],
   "source": []
  },
  {
   "cell_type": "code",
   "execution_count": 9,
   "id": "73cfa5e5",
   "metadata": {},
   "outputs": [],
   "source": [
    "# method 3: exchange information between two vectors\n",
    "\n",
    "n = 15\n",
    "m = 8\n",
    "\n",
    "# k loops\n",
    "k = 60\n",
    "\n",
    "list_of_fitnesses = []\n",
    "for _ in range(k):\n",
    "    vectors   = generate_vectors(n, m)\n",
    "    fitnesses = compute_fitness(vectors)\n",
    "    max_fitness = max(fitnesses)\n",
    "    list_of_fitnesses.append(max_fitness)"
   ]
  },
  {
   "cell_type": "code",
   "execution_count": 10,
   "id": "0f65df14",
   "metadata": {},
   "outputs": [
    {
     "data": {
      "text/plain": [
       "Text(0.5, 1.0, 'Fitness values for 60 iterations')"
      ]
     },
     "execution_count": 10,
     "metadata": {},
     "output_type": "execute_result"
    }
   ],
   "source": [
    "import matplotlib.pyplot as plt\n",
    "%matplotlib qt\n",
    "\n",
    "plt.plot(list_of_fitnesses)\n",
    "plt.ylabel('Fitness')\n",
    "plt.xlabel('Iteration')\n",
    "plt.title('Fitness values for 60 iterations')"
   ]
  },
  {
   "cell_type": "code",
   "execution_count": null,
   "id": "deda6e0c",
   "metadata": {},
   "outputs": [],
   "source": []
  }
 ],
 "metadata": {
  "kernelspec": {
   "display_name": "Python 3 (ipykernel)",
   "language": "python",
   "name": "python3"
  },
  "language_info": {
   "codemirror_mode": {
    "name": "ipython",
    "version": 3
   },
   "file_extension": ".py",
   "mimetype": "text/x-python",
   "name": "python",
   "nbconvert_exporter": "python",
   "pygments_lexer": "ipython3",
   "version": "3.9.13"
  }
 },
 "nbformat": 4,
 "nbformat_minor": 5
}
