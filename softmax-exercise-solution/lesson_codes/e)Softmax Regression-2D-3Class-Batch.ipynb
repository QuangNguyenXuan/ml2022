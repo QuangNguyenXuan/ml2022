{
 "cells": [
  {
   "cell_type": "code",
   "execution_count": 1,
   "metadata": {},
   "outputs": [
    {
     "name": "stdout",
     "output_type": "stream",
     "text": [
      "X:\n",
      " [[1.5 0.2]\n",
      " [1.4 0.2]\n",
      " [1.6 0.2]\n",
      " [4.7 1.6]\n",
      " [3.3 1.1]\n",
      " [4.6 1.3]\n",
      " [5.6 2.2]\n",
      " [5.1 1.5]\n",
      " [5.6 1.4]]\n",
      "y:\n",
      " [0 0 0 1 1 1 2 2 2]\n"
     ]
    }
   ],
   "source": [
    "import numpy as np\n",
    "import matplotlib.pyplot as plt\n",
    "from sklearn import preprocessing\n",
    "\n",
    "iris = np.genfromtxt('iris_2D_3c.csv', dtype=None, delimiter=',', skip_header=1) \n",
    "X = iris[:, 0:2]\n",
    "y = iris[:, 2]\n",
    "\n",
    "# change data type\n",
    "y = y.astype('uint8')\n",
    "\n",
    "print('X:\\n', X)\n",
    "print('y:\\n', y)"
   ]
  },
  {
   "cell_type": "code",
   "execution_count": null,
   "metadata": {},
   "outputs": [],
   "source": []
  },
  {
   "cell_type": "code",
   "execution_count": 2,
   "metadata": {},
   "outputs": [
    {
     "name": "stdout",
     "output_type": "stream",
     "text": [
      "[[1. 0. 0.]\n",
      " [1. 0. 0.]\n",
      " [1. 0. 0.]\n",
      " [0. 1. 0.]\n",
      " [0. 1. 0.]\n",
      " [0. 1. 0.]\n",
      " [0. 0. 1.]\n",
      " [0. 0. 1.]\n",
      " [0. 0. 1.]]\n",
      "[[1.  1.5 0.2]\n",
      " [1.  1.4 0.2]\n",
      " [1.  1.6 0.2]\n",
      " [1.  4.7 1.6]\n",
      " [1.  3.3 1.1]\n",
      " [1.  4.6 1.3]\n",
      " [1.  5.6 2.2]\n",
      " [1.  5.1 1.5]\n",
      " [1.  5.6 1.4]]\n"
     ]
    }
   ],
   "source": [
    "N = 9\n",
    "d = 3 # dimensionality\n",
    "k = 3 # number of classes\n",
    "\n",
    "# one_hot\n",
    "def convert_one_hot(y, k):  \n",
    "    one_hot = np.zeros((len(y), k))\n",
    "    one_hot[np.arange(len(y)), y] = 1\n",
    "    return one_hot\n",
    "\n",
    "y_one_hot = convert_one_hot(y, k)\n",
    "print(y_one_hot)\n",
    "\n",
    "intercept = np.ones((X.shape[0], 1))\n",
    "X = np.concatenate((intercept, X), axis=1)\n",
    "print(X)"
   ]
  },
  {
   "cell_type": "code",
   "execution_count": null,
   "metadata": {},
   "outputs": [],
   "source": []
  },
  {
   "cell_type": "code",
   "execution_count": 8,
   "metadata": {},
   "outputs": [
    {
     "name": "stdout",
     "output_type": "stream",
     "text": [
      "theta:\n",
      " [[ 0.00954774 -0.00406744 -0.01857285]\n",
      " [ 0.00920197 -0.00261997  0.01256923]\n",
      " [ 0.00495131  0.01174362 -0.00307726]]\n"
     ]
    }
   ],
   "source": [
    "# initialize parameters\n",
    "theta = 0.01 * np.random.randn(d, k)\n",
    "print('theta:\\n', theta)"
   ]
  },
  {
   "cell_type": "code",
   "execution_count": null,
   "metadata": {},
   "outputs": [],
   "source": []
  },
  {
   "cell_type": "code",
   "execution_count": 9,
   "metadata": {},
   "outputs": [],
   "source": [
    "# some parameters\n",
    "learning_rate = 0.01\n",
    "losses = []\n",
    "num_iter = 3000\n",
    "\n",
    "for epoch in range(num_iter):\n",
    "    # evaluate class scores\n",
    "    z = X.dot(theta)    \n",
    "\n",
    "    #compute the class probabilities\n",
    "    exp_z = np.exp(z)    \n",
    "    y_hat = exp_z / np.sum(exp_z, axis=1, keepdims=True)\n",
    "\n",
    "    # compute the loss\n",
    "    loss = -np.log(np.sum(y_hat*y_one_hot, axis=1))\n",
    "    losses.append(np.sum(loss))\n",
    "\n",
    "    # compute the gradient on scores\n",
    "    dz = y_hat - y_one_hot\n",
    "\n",
    "    # backpropate the gradient to the parameters (W,b)\n",
    "    dtheta = X.T.dot(dz)\n",
    "\n",
    "    # perform a parameter update\n",
    "    theta = theta - learning_rate*dtheta"
   ]
  },
  {
   "cell_type": "code",
   "execution_count": null,
   "metadata": {},
   "outputs": [],
   "source": []
  },
  {
   "cell_type": "code",
   "execution_count": 10,
   "metadata": {},
   "outputs": [
    {
     "data": {
      "image/png": "[encoded data removed]",
      "text/plain": [
       "<Figure size 640x480 with 1 Axes>"
      ]
     },
     "metadata": {},
     "output_type": "display_data"
    }
   ],
   "source": [
    "x_axis = range(len(losses))\n",
    "plt.plot(x_axis, losses, color=\"r\")\n",
    "plt.show()"
   ]
  },
  {
   "cell_type": "code",
   "execution_count": null,
   "metadata": {},
   "outputs": [],
   "source": []
  },
  {
   "cell_type": "code",
   "execution_count": 11,
   "metadata": {},
   "outputs": [
    {
     "name": "stdout",
     "output_type": "stream",
     "text": [
      "[[9.52552030e-01 4.72972109e-02 1.50759504e-04]\n",
      " [9.55281829e-01 4.46012999e-02 1.16871044e-04]\n",
      " [9.49658541e-01 5.01470197e-02 1.94439304e-04]\n",
      " [1.12453751e-03 5.69699658e-01 4.29175805e-01]\n",
      " [5.54346887e-02 8.87216584e-01 5.73487275e-02]\n",
      " [5.69893773e-03 5.72821940e-01 4.21479122e-01]\n",
      " [1.22808417e-05 2.43169152e-01 7.56818568e-01]\n",
      " [9.42692404e-04 3.63686210e-01 6.35371097e-01]\n",
      " [5.39584095e-04 1.68589921e-01 8.30870495e-01]]\n"
     ]
    }
   ],
   "source": [
    "z = X.dot(theta)    \n",
    "exp_z = np.exp(z)\n",
    "y_hat = exp_z / np.sum(exp_z, axis=1, keepdims=True)\n",
    "print(y_hat)"
   ]
  },
  {
   "cell_type": "code",
   "execution_count": null,
   "metadata": {},
   "outputs": [],
   "source": []
  },
  {
   "cell_type": "code",
   "execution_count": 12,
   "metadata": {},
   "outputs": [
    {
     "name": "stdout",
     "output_type": "stream",
     "text": [
      "[0 0 0 1 1 1 2 2 2]\n"
     ]
    }
   ],
   "source": [
    "predicted_class = np.argmax(y_hat, axis=1)\n",
    "print(predicted_class)"
   ]
  },
  {
   "cell_type": "code",
   "execution_count": null,
   "metadata": {},
   "outputs": [],
   "source": []
  }
 ],
 "metadata": {
  "kernelspec": {
   "display_name": "Python 3 (ipykernel)",
   "language": "python",
   "name": "python3"
  },
  "language_info": {
   "codemirror_mode": {
    "name": "ipython",
    "version": 3
   },
   "file_extension": ".py",
   "mimetype": "text/x-python",
   "name": "python",
   "nbconvert_exporter": "python",
   "pygments_lexer": "ipython3",
   "version": "3.9.13"
  }
 },
 "nbformat": 4,
 "nbformat_minor": 2
}
