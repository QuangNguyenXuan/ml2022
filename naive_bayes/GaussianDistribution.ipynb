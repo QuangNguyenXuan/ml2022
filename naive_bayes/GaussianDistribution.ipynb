{
 "cells": [
  {
   "cell_type": "markdown",
   "id": "c98709ac",
   "metadata": {},
   "source": [
    "## Simple example"
   ]
  },
  {
   "cell_type": "code",
   "execution_count": 1,
   "id": "62fd4781",
   "metadata": {},
   "outputs": [
    {
     "name": "stdout",
     "output_type": "stream",
     "text": [
      "[48.6 51.2 59.1 49.7 58.2 66.8 63.1 56.4 54.5 58.1]\n"
     ]
    }
   ],
   "source": [
    "import numpy as np\n",
    "\n",
    "heights = [48.6, 51.2, 59.1, 49.7, 58.2, 66.8, 63.1, 56.4, 54.5, 58.1]\n",
    "heights = np.array(heights)\n",
    "print(heights)"
   ]
  },
  {
   "cell_type": "code",
   "execution_count": 3,
   "id": "f1f57113",
   "metadata": {},
   "outputs": [
    {
     "name": "stdout",
     "output_type": "stream",
     "text": [
      "56.57000000000001\n",
      "30.256099999999993\n",
      "5.500554517500939\n"
     ]
    }
   ],
   "source": [
    "mean = np.mean(heights)\n",
    "var  = np.var(heights)\n",
    "dev  = np.sqrt(var)\n",
    "\n",
    "print(mean)\n",
    "print(var)\n",
    "print(dev)"
   ]
  },
  {
   "cell_type": "code",
   "execution_count": 5,
   "id": "d5e8603c",
   "metadata": {},
   "outputs": [
    {
     "name": "stdout",
     "output_type": "stream",
     "text": [
      "[0.02538726 0.04503414 0.06524759 0.03324855 0.06941209 0.01286508\n",
      " 0.0358485  0.07249302 0.06756954 0.06977551]\n"
     ]
    }
   ],
   "source": [
    "from scipy import stats\n",
    "\n",
    "y_data = stats.norm.pdf(heights, mean, dev)\n",
    "print(y_data)"
   ]
  },
  {
   "cell_type": "code",
   "execution_count": 6,
   "id": "4fcaae13",
   "metadata": {},
   "outputs": [
    {
     "name": "stdout",
     "output_type": "stream",
     "text": [
      "[0.02538726 0.04503414 0.06524759 0.03324855 0.06941209 0.01286508\n",
      " 0.0358485  0.07249302 0.06756954 0.06977551]\n"
     ]
    }
   ],
   "source": [
    "import math\n",
    "\n",
    "def gaussian_function(data, mean, var):\n",
    "    return (1.0/np.sqrt(2*math.pi*var)) * np.exp(-(data-mean)**2 / (2*var))\n",
    "\n",
    "output = gaussian_function(heights, mean, var)\n",
    "print(output)"
   ]
  },
  {
   "cell_type": "code",
   "execution_count": 10,
   "id": "cff3a26d",
   "metadata": {},
   "outputs": [
    {
     "data": {
      "text/plain": [
       "array([3.32131093e-05])"
      ]
     },
     "execution_count": 10,
     "metadata": {},
     "output_type": "execute_result"
    }
   ],
   "source": [
    "gaussian_function(np.array([35.0]), mean, var)"
   ]
  },
  {
   "cell_type": "code",
   "execution_count": null,
   "id": "bf9aae76",
   "metadata": {},
   "outputs": [],
   "source": []
  },
  {
   "cell_type": "code",
   "execution_count": null,
   "id": "29930af5",
   "metadata": {},
   "outputs": [],
   "source": []
  },
  {
   "cell_type": "code",
   "execution_count": null,
   "id": "49c15234",
   "metadata": {},
   "outputs": [],
   "source": []
  },
  {
   "cell_type": "code",
   "execution_count": 1,
   "id": "9ca84b73",
   "metadata": {},
   "outputs": [
    {
     "name": "stdout",
     "output_type": "stream",
     "text": [
      "[1.4 1.  1.3 1.9 2.  1.8]\n"
     ]
    }
   ],
   "source": [
    "import numpy as np\n",
    "\n",
    "data = [1.4, 1.0, 1.3, 1.9, 2.0, 1.8]\n",
    "data = np.array(data)\n",
    "print(data)"
   ]
  },
  {
   "cell_type": "code",
   "execution_count": 2,
   "id": "2acad59c",
   "metadata": {},
   "outputs": [
    {
     "name": "stdout",
     "output_type": "stream",
     "text": [
      "1.5666666666666667\n",
      "0.1288888888888889\n",
      "0.3590109871423003\n"
     ]
    }
   ],
   "source": [
    "mean = np.mean(data)\n",
    "var  = np.var(data)\n",
    "dev  = np.sqrt(var)\n",
    "\n",
    "print(mean)\n",
    "print(var)\n",
    "print(dev)"
   ]
  },
  {
   "cell_type": "code",
   "execution_count": 3,
   "id": "904af652",
   "metadata": {},
   "outputs": [
    {
     "name": "stdout",
     "output_type": "stream",
     "text": [
      "[0.99770776 0.31974678 0.84332884 0.7221151  0.53634132 0.8996557 ]\n"
     ]
    }
   ],
   "source": [
    "from scipy import stats\n",
    "\n",
    "y_data = stats.norm.pdf(data, mean, dev)\n",
    "print(y_data)"
   ]
  },
  {
   "cell_type": "code",
   "execution_count": null,
   "id": "fde2e1f1",
   "metadata": {},
   "outputs": [],
   "source": []
  },
  {
   "cell_type": "code",
   "execution_count": 19,
   "id": "97f99144",
   "metadata": {},
   "outputs": [
    {
     "name": "stdout",
     "output_type": "stream",
     "text": [
      "[3.  3.8 4.1 3.9 4.2 3.4]\n",
      "3.733333333333333\n",
      "0.1722222222222222\n",
      "0.41499665326629104\n"
     ]
    }
   ],
   "source": [
    "import numpy as np\n",
    "\n",
    "data = [3.0, 3.8, 4.1, 3.9, 4.2, 3.4]\n",
    "data = np.array(data)\n",
    "print(data)\n",
    "\n",
    "mean = np.mean(data)\n",
    "var  = np.var(data)\n",
    "dev  = np.sqrt(var)\n",
    "\n",
    "print(mean)\n",
    "print(var)\n",
    "print(dev)"
   ]
  },
  {
   "cell_type": "code",
   "execution_count": null,
   "id": "654df553",
   "metadata": {},
   "outputs": [],
   "source": []
  },
  {
   "cell_type": "code",
   "execution_count": 21,
   "id": "239392c2",
   "metadata": {},
   "outputs": [
    {
     "name": "stdout",
     "output_type": "stream",
     "text": [
      "[0.20174636 0.94899008 0.65065464 0.88683275 0.5108334  0.69625845]\n"
     ]
    }
   ],
   "source": [
    "from scipy import stats\n",
    "\n",
    "y_data = stats.norm.pdf(data, mean, dev)\n",
    "print(y_data)"
   ]
  },
  {
   "cell_type": "code",
   "execution_count": null,
   "id": "e3db81fa",
   "metadata": {},
   "outputs": [],
   "source": []
  },
  {
   "cell_type": "code",
   "execution_count": 22,
   "id": "38c6770f",
   "metadata": {},
   "outputs": [],
   "source": [
    "import math\n",
    "\n",
    "def gaussian_function(data, mean, var):\n",
    "    return (1.0/np.sqrt(2*math.pi*var)) * np.exp(-(data-mean)**2 / (2*var))"
   ]
  },
  {
   "cell_type": "code",
   "execution_count": 23,
   "id": "0368a536",
   "metadata": {},
   "outputs": [
    {
     "name": "stdout",
     "output_type": "stream",
     "text": [
      "[0.20174636 0.94899008 0.65065464 0.88683275 0.5108334  0.69625845]\n"
     ]
    }
   ],
   "source": [
    "output = gaussian_function(data, mean, var)\n",
    "print(output)"
   ]
  },
  {
   "cell_type": "code",
   "execution_count": null,
   "id": "33cff57d",
   "metadata": {},
   "outputs": [],
   "source": []
  },
  {
   "cell_type": "code",
   "execution_count": null,
   "id": "9dfb36fe",
   "metadata": {},
   "outputs": [],
   "source": []
  },
  {
   "cell_type": "markdown",
   "id": "a44d5058",
   "metadata": {},
   "source": [
    "## Standard normal distribution"
   ]
  },
  {
   "cell_type": "code",
   "execution_count": 8,
   "id": "c2952595",
   "metadata": {},
   "outputs": [
    {
     "name": "stdout",
     "output_type": "stream",
     "text": [
      "[1.4 1.  1.3 1.9 2.  1.8]\n",
      "1.5666666666666667\n",
      "0.1288888888888889\n"
     ]
    }
   ],
   "source": [
    "import numpy as np\n",
    "from scipy import stats\n",
    "\n",
    "data = [1.4, 1.0, 1.3, 1.9, 2.0, 1.8]\n",
    "data = np.array(data)\n",
    "print(data)\n",
    "\n",
    "mean = np.mean(data)\n",
    "var  = np.var(data)\n",
    "\n",
    "print(mean)\n",
    "print(var)"
   ]
  },
  {
   "cell_type": "code",
   "execution_count": 9,
   "id": "f961b2c0",
   "metadata": {},
   "outputs": [
    {
     "name": "stdout",
     "output_type": "stream",
     "text": [
      "[-1.29310345 -4.39655172 -2.06896552  2.5862069   3.36206897  1.81034483]\n"
     ]
    }
   ],
   "source": [
    "data = (data - mean) / var\n",
    "print(data)"
   ]
  },
  {
   "cell_type": "code",
   "execution_count": 10,
   "id": "350646d0",
   "metadata": {},
   "outputs": [
    {
     "name": "stdout",
     "output_type": "stream",
     "text": [
      "[1.72907796e-01 2.53236437e-05 4.69229826e-02 1.40775832e-02\n",
      " 1.40082715e-03 7.74895081e-02]\n"
     ]
    }
   ],
   "source": [
    "y_data = stats.norm.pdf(data, 0, 1)\n",
    "print(y_data)"
   ]
  },
  {
   "cell_type": "code",
   "execution_count": null,
   "id": "b16d4b85",
   "metadata": {},
   "outputs": [],
   "source": []
  }
 ],
 "metadata": {
  "kernelspec": {
   "display_name": "Python 3 (ipykernel)",
   "language": "python",
   "name": "python3"
  },
  "language_info": {
   "codemirror_mode": {
    "name": "ipython",
    "version": 3
   },
   "file_extension": ".py",
   "mimetype": "text/x-python",
   "name": "python",
   "nbconvert_exporter": "python",
   "pygments_lexer": "ipython3",
   "version": "3.9.13"
  }
 },
 "nbformat": 4,
 "nbformat_minor": 5
}
