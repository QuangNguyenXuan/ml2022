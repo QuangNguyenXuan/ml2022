{
 "cells": [
  {
   "cell_type": "markdown",
   "id": "6a705c99",
   "metadata": {},
   "source": [
    "## Gaussian Naive Bayes"
   ]
  },
  {
   "cell_type": "code",
   "execution_count": 1,
   "id": "69e1e111",
   "metadata": {},
   "outputs": [],
   "source": [
    "from sklearn.metrics import confusion_matrix\n",
    "from sklearn.metrics import classification_report\n",
    "from sklearn.model_selection import train_test_split\n",
    "\n",
    "import pandas as pd\n",
    "\n",
    "iris = pd.read_csv('iris_2D.csv')\n",
    "\n",
    "# Seperating the data into dependent and independent variables\n",
    "X_train = iris.iloc[:, :-1].values\n",
    "y_train = iris.iloc[:, -1].values"
   ]
  },
  {
   "cell_type": "code",
   "execution_count": 13,
   "id": "132298da",
   "metadata": {},
   "outputs": [
    {
     "data": {
      "text/plain": [
       "array([4.9, 4.7, 4.6, 5. , 5.4, 4.6, 6.4, 6.9, 5.5, 6.5, 5.7, 6.3])"
      ]
     },
     "execution_count": 13,
     "metadata": {},
     "output_type": "execute_result"
    }
   ],
   "source": [
    "X_train[:,0]"
   ]
  },
  {
   "cell_type": "code",
   "execution_count": 14,
   "id": "414d1825",
   "metadata": {},
   "outputs": [
    {
     "data": {
      "text/plain": [
       "array([3. , 3.2, 3.1, 3.6, 3.9, 3.4, 3.2, 3.1, 2.3, 2.8, 2.8, 3.3])"
      ]
     },
     "execution_count": 14,
     "metadata": {},
     "output_type": "execute_result"
    }
   ],
   "source": [
    "X_train[:,1]"
   ]
  },
  {
   "cell_type": "code",
   "execution_count": 3,
   "id": "abdda8ad",
   "metadata": {},
   "outputs": [
    {
     "data": {
      "text/plain": [
       "array([0, 0, 0, 0, 0, 0, 1, 1, 1, 1, 1, 1], dtype=int64)"
      ]
     },
     "execution_count": 3,
     "metadata": {},
     "output_type": "execute_result"
    }
   ],
   "source": [
    "y_train"
   ]
  },
  {
   "cell_type": "code",
   "execution_count": null,
   "id": "016ef455",
   "metadata": {},
   "outputs": [],
   "source": []
  },
  {
   "cell_type": "code",
   "execution_count": 4,
   "id": "35da4b5d",
   "metadata": {},
   "outputs": [],
   "source": [
    "from sklearn.naive_bayes import GaussianNB\n",
    "import numpy as np\n",
    "\n",
    "classifier = GaussianNB()\n",
    "clf = classifier.fit(X_train, y_train)"
   ]
  },
  {
   "cell_type": "code",
   "execution_count": 7,
   "id": "1a061b50",
   "metadata": {},
   "outputs": [
    {
     "data": {
      "text/plain": [
       "array([[0.996191, 0.003809]])"
      ]
     },
     "execution_count": 7,
     "metadata": {},
     "output_type": "execute_result"
    }
   ],
   "source": [
    "# predict\n",
    "x_test = np.array([[4.1, 2.9]])\n",
    "clf.predict_proba(x_test)"
   ]
  },
  {
   "cell_type": "code",
   "execution_count": null,
   "id": "69080bb5",
   "metadata": {},
   "outputs": [],
   "source": []
  },
  {
   "cell_type": "code",
   "execution_count": 9,
   "id": "e071f79b",
   "metadata": {},
   "outputs": [
    {
     "data": {
      "text/plain": [
       "array([0.5, 0.5])"
      ]
     },
     "execution_count": 9,
     "metadata": {},
     "output_type": "execute_result"
    }
   ],
   "source": [
    "clf.class_prior_"
   ]
  },
  {
   "cell_type": "code",
   "execution_count": 11,
   "id": "dc5f3c68",
   "metadata": {},
   "outputs": [
    {
     "data": {
      "text/plain": [
       "array([[0.07888889, 0.09555556],\n",
       "       [0.22805556, 0.11138889]])"
      ]
     },
     "execution_count": 11,
     "metadata": {},
     "output_type": "execute_result"
    }
   ],
   "source": [
    "clf.var_"
   ]
  },
  {
   "cell_type": "code",
   "execution_count": 12,
   "id": "53dfcb0b",
   "metadata": {},
   "outputs": [
    {
     "data": {
      "text/plain": [
       "array([[4.86666667, 3.36666667],\n",
       "       [6.21666667, 2.91666667]])"
      ]
     },
     "execution_count": 12,
     "metadata": {},
     "output_type": "execute_result"
    }
   ],
   "source": [
    "clf.theta_"
   ]
  },
  {
   "cell_type": "code",
   "execution_count": null,
   "id": "68d80665",
   "metadata": {},
   "outputs": [],
   "source": []
  },
  {
   "cell_type": "markdown",
   "id": "4bf03db1",
   "metadata": {},
   "source": [
    "## Compute manually"
   ]
  },
  {
   "cell_type": "code",
   "execution_count": 16,
   "id": "68b060de",
   "metadata": {},
   "outputs": [],
   "source": [
    "import math\n",
    "\n",
    "def gaussian_function(data, mean, var):\n",
    "    return (1.0/np.sqrt(2*math.pi*var)) * np.exp(-(data-mean)**2 / (2*var))"
   ]
  },
  {
   "cell_type": "code",
   "execution_count": 20,
   "id": "9feff0bf",
   "metadata": {},
   "outputs": [
    {
     "data": {
      "text/plain": [
       "array([[4.52805727e-05]])"
      ]
     },
     "execution_count": 20,
     "metadata": {},
     "output_type": "execute_result"
    }
   ],
   "source": [
    "gaussian_function(np.array([[4.1]]), 6.21666667, 0.22805556)"
   ]
  },
  {
   "cell_type": "code",
   "execution_count": 21,
   "id": "4cd5d1ef",
   "metadata": {},
   "outputs": [
    {
     "data": {
      "text/plain": [
       "array([[1.19384409]])"
      ]
     },
     "execution_count": 21,
     "metadata": {},
     "output_type": "execute_result"
    }
   ],
   "source": [
    "gaussian_function(np.array([[2.9]]), 2.91666667, 0.11138889)"
   ]
  },
  {
   "cell_type": "code",
   "execution_count": 24,
   "id": "12187e30",
   "metadata": {},
   "outputs": [
    {
     "data": {
      "text/plain": [
       "0.0070835"
      ]
     },
     "execution_count": 24,
     "metadata": {},
     "output_type": "execute_result"
    }
   ],
   "source": [
    "0.01412*0.5+0.000047*0.5"
   ]
  },
  {
   "cell_type": "code",
   "execution_count": 16,
   "id": "beb2c6c7",
   "metadata": {},
   "outputs": [
    {
     "name": "stdout",
     "output_type": "stream",
     "text": [
      "1.52\n",
      "0.1416\n",
      "[1.00761742 0.40804972 0.893626   0.63670363 0.46995266]\n"
     ]
    }
   ],
   "source": [
    "# compute manually\n",
    "\n",
    "data_c0 = np.array([4.9, 4.7, 4.6, 5. , 5.4, 4.6])\n",
    "mean_c0 = data_c0.mean()\n",
    "var_c0  = data_c0.var()\n",
    "print(mean_c0)\n",
    "print(var_c0)      \n",
    "\n",
    "prob_c0 = gaussian_function(data_c0, mean_c0, var_c0)\n",
    "print(prob_c0)"
   ]
  },
  {
   "cell_type": "code",
   "execution_count": null,
   "id": "a541039a",
   "metadata": {},
   "outputs": [],
   "source": []
  },
  {
   "cell_type": "code",
   "execution_count": 17,
   "id": "1cf07d38",
   "metadata": {},
   "outputs": [
    {
     "name": "stdout",
     "output_type": "stream",
     "text": [
      "3.88\n",
      "0.07760000000000002\n",
      "[1.37426395 1.0484362  1.42843305 0.74034542 0.3245289 ]\n"
     ]
    }
   ],
   "source": [
    "data_c1 = np.array([3.8, 4.1, 3.9, 4.2, 3.4])\n",
    "mean_c1 = data_c1.mean()\n",
    "var_c1  = data_c1.var()\n",
    "print(mean_c1)\n",
    "print(var_c1)\n",
    "\n",
    "prob_c1 = gaussian_function(data_c1, mean_c1, var_c1)\n",
    "print(prob_c1)"
   ]
  },
  {
   "cell_type": "code",
   "execution_count": null,
   "id": "ad586b22",
   "metadata": {},
   "outputs": [],
   "source": []
  },
  {
   "cell_type": "code",
   "execution_count": 23,
   "id": "6b484006",
   "metadata": {},
   "outputs": [
    {
     "name": "stdout",
     "output_type": "stream",
     "text": [
      "[[0.00046381]]\n",
      "[[0.00974954]]\n",
      "[[0.00510668]]\n",
      "[[0.0454125]]\n",
      "[[0.9545875]]\n"
     ]
    }
   ],
   "source": [
    "# predict manually\n",
    "\n",
    "x_test = np.array([[3.0]])\n",
    "dpf_c0_x = gaussian_function(x_test, mean_c0, var_c0)\n",
    "dpf_c1_x = gaussian_function(x_test, mean_c1, var_c1)\n",
    "print(dpf_c0_x)\n",
    "print(dpf_c1_x)\n",
    "\n",
    "# normalize\n",
    "total = dpf_c0_x*0.5 + dpf_c1_x*0.5\n",
    "print(total)\n",
    "dpf_c0_x = dpf_c0_x*0.5/total\n",
    "dpf_c1_x = dpf_c1_x*0.5/total\n",
    "\n",
    "# print\n",
    "print(dpf_c0_x)\n",
    "print(dpf_c1_x)"
   ]
  },
  {
   "cell_type": "code",
   "execution_count": null,
   "id": "0758e751",
   "metadata": {},
   "outputs": [],
   "source": []
  }
 ],
 "metadata": {
  "kernelspec": {
   "display_name": "Python 3 (ipykernel)",
   "language": "python",
   "name": "python3"
  },
  "language_info": {
   "codemirror_mode": {
    "name": "ipython",
    "version": 3
   },
   "file_extension": ".py",
   "mimetype": "text/x-python",
   "name": "python",
   "nbconvert_exporter": "python",
   "pygments_lexer": "ipython3",
   "version": "3.9.13"
  }
 },
 "nbformat": 4,
 "nbformat_minor": 5
}
