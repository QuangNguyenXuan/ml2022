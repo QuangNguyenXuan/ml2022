{
 "cells": [
  {
   "cell_type": "markdown",
   "id": "6a705c99",
   "metadata": {},
   "source": [
    "## Gaussian Naive Bayes"
   ]
  },
  {
   "cell_type": "code",
   "execution_count": 4,
   "id": "69e1e111",
   "metadata": {},
   "outputs": [],
   "source": [
    "from sklearn.metrics import confusion_matrix\n",
    "from sklearn.metrics import classification_report\n",
    "from sklearn.model_selection import train_test_split\n",
    "\n",
    "import pandas as pd\n",
    "\n",
    "iris = pd.read_csv('iris_1D.csv')\n",
    "\n",
    "# Seperating the data into dependent and independent variables\n",
    "X_train = iris.iloc[:, :-1].values\n",
    "y_train = iris.iloc[:, -1].values"
   ]
  },
  {
   "cell_type": "code",
   "execution_count": 5,
   "id": "132298da",
   "metadata": {},
   "outputs": [
    {
     "data": {
      "text/plain": [
       "array([1.4, 1. , 1.3, 1.9, 2. , 3.8, 4.1, 3.9, 4.2, 3.4])"
      ]
     },
     "execution_count": 5,
     "metadata": {},
     "output_type": "execute_result"
    }
   ],
   "source": [
    "X_train[:,0]"
   ]
  },
  {
   "cell_type": "code",
   "execution_count": 6,
   "id": "abdda8ad",
   "metadata": {},
   "outputs": [
    {
     "data": {
      "text/plain": [
       "array([0., 0., 0., 0., 0., 1., 1., 1., 1., 1.])"
      ]
     },
     "execution_count": 6,
     "metadata": {},
     "output_type": "execute_result"
    }
   ],
   "source": [
    "y_train"
   ]
  },
  {
   "cell_type": "code",
   "execution_count": null,
   "id": "016ef455",
   "metadata": {},
   "outputs": [],
   "source": []
  },
  {
   "cell_type": "code",
   "execution_count": 7,
   "id": "35da4b5d",
   "metadata": {},
   "outputs": [],
   "source": [
    "from sklearn.naive_bayes import GaussianNB\n",
    "import numpy as np\n",
    "\n",
    "classifier = GaussianNB()\n",
    "clf = classifier.fit(X_train, y_train)"
   ]
  },
  {
   "cell_type": "code",
   "execution_count": 19,
   "id": "1a061b50",
   "metadata": {},
   "outputs": [
    {
     "data": {
      "text/plain": [
       "array([[0.0454125, 0.9545875]])"
      ]
     },
     "execution_count": 19,
     "metadata": {},
     "output_type": "execute_result"
    }
   ],
   "source": [
    "# predict\n",
    "x_test = np.array([[3.0]])\n",
    "clf.predict_proba(x_test)"
   ]
  },
  {
   "cell_type": "code",
   "execution_count": null,
   "id": "69080bb5",
   "metadata": {},
   "outputs": [],
   "source": []
  },
  {
   "cell_type": "code",
   "execution_count": 9,
   "id": "2c728ed0",
   "metadata": {},
   "outputs": [
    {
     "data": {
      "text/plain": [
       "array([5., 5.])"
      ]
     },
     "execution_count": 9,
     "metadata": {},
     "output_type": "execute_result"
    }
   ],
   "source": [
    "clf.class_count_"
   ]
  },
  {
   "cell_type": "code",
   "execution_count": 10,
   "id": "e071f79b",
   "metadata": {},
   "outputs": [
    {
     "data": {
      "text/plain": [
       "array([0.5, 0.5])"
      ]
     },
     "execution_count": 10,
     "metadata": {},
     "output_type": "execute_result"
    }
   ],
   "source": [
    "clf.class_prior_"
   ]
  },
  {
   "cell_type": "code",
   "execution_count": 11,
   "id": "66bed4d1",
   "metadata": {},
   "outputs": [
    {
     "data": {
      "text/plain": [
       "array([0., 1.])"
      ]
     },
     "execution_count": 11,
     "metadata": {},
     "output_type": "execute_result"
    }
   ],
   "source": [
    "clf.classes_"
   ]
  },
  {
   "cell_type": "code",
   "execution_count": 13,
   "id": "dc5f3c68",
   "metadata": {},
   "outputs": [
    {
     "data": {
      "text/plain": [
       "array([[0.1416],\n",
       "       [0.0776]])"
      ]
     },
     "execution_count": 13,
     "metadata": {},
     "output_type": "execute_result"
    }
   ],
   "source": [
    "clf.var_"
   ]
  },
  {
   "cell_type": "code",
   "execution_count": 14,
   "id": "53dfcb0b",
   "metadata": {},
   "outputs": [
    {
     "data": {
      "text/plain": [
       "array([[1.52],\n",
       "       [3.88]])"
      ]
     },
     "execution_count": 14,
     "metadata": {},
     "output_type": "execute_result"
    }
   ],
   "source": [
    "clf.theta_"
   ]
  },
  {
   "cell_type": "code",
   "execution_count": null,
   "id": "68d80665",
   "metadata": {},
   "outputs": [],
   "source": []
  },
  {
   "cell_type": "markdown",
   "id": "4bf03db1",
   "metadata": {},
   "source": [
    "## Compute manually"
   ]
  },
  {
   "cell_type": "code",
   "execution_count": 15,
   "id": "68b060de",
   "metadata": {},
   "outputs": [],
   "source": [
    "import math\n",
    "\n",
    "def gaussian_function(data, mean, var):\n",
    "    return (1.0/np.sqrt(2*math.pi*var)) * np.exp(-(data-mean)**2 / (2*var))"
   ]
  },
  {
   "cell_type": "code",
   "execution_count": 16,
   "id": "beb2c6c7",
   "metadata": {},
   "outputs": [
    {
     "name": "stdout",
     "output_type": "stream",
     "text": [
      "1.52\n",
      "0.1416\n",
      "[1.00761742 0.40804972 0.893626   0.63670363 0.46995266]\n"
     ]
    }
   ],
   "source": [
    "# compute manually\n",
    "\n",
    "data_c0 = np.array([1.4, 1.0, 1.3, 1.9, 2.0])\n",
    "mean_c0 = data_c0.mean()\n",
    "var_c0  = data_c0.var()\n",
    "print(mean_c0)\n",
    "print(var_c0)      \n",
    "\n",
    "prob_c0 = gaussian_function(data_c0, mean_c0, var_c0)\n",
    "print(prob_c0)"
   ]
  },
  {
   "cell_type": "code",
   "execution_count": null,
   "id": "a541039a",
   "metadata": {},
   "outputs": [],
   "source": []
  },
  {
   "cell_type": "code",
   "execution_count": 17,
   "id": "1cf07d38",
   "metadata": {},
   "outputs": [
    {
     "name": "stdout",
     "output_type": "stream",
     "text": [
      "3.88\n",
      "0.07760000000000002\n",
      "[1.37426395 1.0484362  1.42843305 0.74034542 0.3245289 ]\n"
     ]
    }
   ],
   "source": [
    "data_c1 = np.array([3.8, 4.1, 3.9, 4.2, 3.4])\n",
    "mean_c1 = data_c1.mean()\n",
    "var_c1  = data_c1.var()\n",
    "print(mean_c1)\n",
    "print(var_c1)\n",
    "\n",
    "prob_c1 = gaussian_function(data_c1, mean_c1, var_c1)\n",
    "print(prob_c1)"
   ]
  },
  {
   "cell_type": "code",
   "execution_count": null,
   "id": "ad586b22",
   "metadata": {},
   "outputs": [],
   "source": []
  },
  {
   "cell_type": "code",
   "execution_count": 23,
   "id": "6b484006",
   "metadata": {},
   "outputs": [
    {
     "name": "stdout",
     "output_type": "stream",
     "text": [
      "[[0.00046381]]\n",
      "[[0.00974954]]\n",
      "[[0.00510668]]\n",
      "[[0.0454125]]\n",
      "[[0.9545875]]\n"
     ]
    }
   ],
   "source": [
    "# predict manually\n",
    "\n",
    "x_test = np.array([[3.0]])\n",
    "dpf_c0_x = gaussian_function(x_test, mean_c0, var_c0)\n",
    "dpf_c1_x = gaussian_function(x_test, mean_c1, var_c1)\n",
    "print(dpf_c0_x)\n",
    "print(dpf_c1_x)\n",
    "\n",
    "# normalize\n",
    "total = dpf_c0_x*0.5 + dpf_c1_x*0.5\n",
    "print(total)\n",
    "dpf_c0_x = dpf_c0_x*0.5/total\n",
    "dpf_c1_x = dpf_c1_x*0.5/total\n",
    "\n",
    "# print\n",
    "print(dpf_c0_x)\n",
    "print(dpf_c1_x)"
   ]
  },
  {
   "cell_type": "code",
   "execution_count": null,
   "id": "0758e751",
   "metadata": {},
   "outputs": [],
   "source": []
  }
 ],
 "metadata": {
  "kernelspec": {
   "display_name": "Python 3 (ipykernel)",
   "language": "python",
   "name": "python3"
  },
  "language_info": {
   "codemirror_mode": {
    "name": "ipython",
    "version": 3
   },
   "file_extension": ".py",
   "mimetype": "text/x-python",
   "name": "python",
   "nbconvert_exporter": "python",
   "pygments_lexer": "ipython3",
   "version": "3.9.13"
  }
 },
 "nbformat": 4,
 "nbformat_minor": 5
}
